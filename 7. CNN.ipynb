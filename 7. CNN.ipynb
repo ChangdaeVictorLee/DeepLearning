{
 "cells": [
  {
   "cell_type": "code",
   "execution_count": 1,
   "metadata": {
    "id": "destLyXRM2w7"
   },
   "outputs": [],
   "source": [
    "# 7.1\n",
    "# 임포트하기\n",
    "\n",
    "import numpy as np\n",
    "\n",
    "import torch\n",
    "import torch.nn as nn\n",
    "import torch.nn.functional as F\n",
    "import torch.optim as optim\n",
    "\n",
    "import torchvision\n",
    "from torchvision import datasets, models, transforms\n",
    "from torch.utils.data import Dataset, DataLoader\n",
    "\n",
    "import matplotlib.pyplot as plt\n",
    "%matplotlib inline\n"
   ]
  },
  {
   "cell_type": "code",
   "execution_count": 2,
   "metadata": {
    "colab": {
     "base_uri": "https://localhost:8080/"
    },
    "id": "TzdpqMzxM2w-",
    "outputId": "84e15ba9-c119-4fc0-e151-11bab1306a6e"
   },
   "outputs": [
    {
     "name": "stdout",
     "output_type": "stream",
     "text": [
      "device: cuda\n"
     ]
    }
   ],
   "source": [
    "# gpu 설정\n",
    "if torch.cuda.is_available():\n",
    "    device = torch.device('cuda')          \n",
    "else:\n",
    "    device = torch.device('cpu')\n",
    "    \n",
    "print('device:', device)"
   ]
  },
  {
   "cell_type": "markdown",
   "metadata": {
    "id": "MHvnJ1Q-M2xB"
   },
   "source": [
    "### Hyperparameters (Mnist 학습 위해)\n",
    "---"
   ]
  },
  {
   "cell_type": "code",
   "execution_count": 3,
   "metadata": {
    "id": "f2m0d9ZAM2xB"
   },
   "outputs": [],
   "source": [
    "# 7.2\n",
    "num_epochs = 30        # 에폭 수\n",
    "num_classes = 10       # 분류 클래스 수 (0~9까지의 숫자)\n",
    "batch_size = 1000      # 배치 사이즈\n",
    "learning_rate = 0.001  # 학습률"
   ]
  },
  {
   "cell_type": "markdown",
   "metadata": {
    "id": "2EGLUfOSM2xD"
   },
   "source": [
    "### Load dataset (Mnist)\n",
    "---"
   ]
  },
  {
   "cell_type": "code",
   "execution_count": 4,
   "metadata": {
    "id": "eJrQkkiWM2xE"
   },
   "outputs": [
    {
     "name": "stdout",
     "output_type": "stream",
     "text": [
      "Downloading http://yann.lecun.com/exdb/mnist/train-images-idx3-ubyte.gz\n",
      "Downloading http://yann.lecun.com/exdb/mnist/train-images-idx3-ubyte.gz to ./mnist_data/MNIST\\raw\\train-images-idx3-ubyte.gz\n"
     ]
    },
    {
     "name": "stderr",
     "output_type": "stream",
     "text": [
      "100.0%\n"
     ]
    },
    {
     "name": "stdout",
     "output_type": "stream",
     "text": [
      "Extracting ./mnist_data/MNIST\\raw\\train-images-idx3-ubyte.gz to ./mnist_data/MNIST\\raw\n",
      "\n",
      "Downloading http://yann.lecun.com/exdb/mnist/train-labels-idx1-ubyte.gz\n",
      "Downloading http://yann.lecun.com/exdb/mnist/train-labels-idx1-ubyte.gz to ./mnist_data/MNIST\\raw\\train-labels-idx1-ubyte.gz\n"
     ]
    },
    {
     "name": "stderr",
     "output_type": "stream",
     "text": [
      "100.0%\n"
     ]
    },
    {
     "name": "stdout",
     "output_type": "stream",
     "text": [
      "Extracting ./mnist_data/MNIST\\raw\\train-labels-idx1-ubyte.gz to ./mnist_data/MNIST\\raw\n",
      "\n",
      "Downloading http://yann.lecun.com/exdb/mnist/t10k-images-idx3-ubyte.gz\n",
      "Downloading http://yann.lecun.com/exdb/mnist/t10k-images-idx3-ubyte.gz to ./mnist_data/MNIST\\raw\\t10k-images-idx3-ubyte.gz\n"
     ]
    },
    {
     "name": "stderr",
     "output_type": "stream",
     "text": [
      "100.0%\n"
     ]
    },
    {
     "name": "stdout",
     "output_type": "stream",
     "text": [
      "Extracting ./mnist_data/MNIST\\raw\\t10k-images-idx3-ubyte.gz to ./mnist_data/MNIST\\raw\n",
      "\n",
      "Downloading http://yann.lecun.com/exdb/mnist/t10k-labels-idx1-ubyte.gz\n",
      "Downloading http://yann.lecun.com/exdb/mnist/t10k-labels-idx1-ubyte.gz to ./mnist_data/MNIST\\raw\\t10k-labels-idx1-ubyte.gz\n"
     ]
    },
    {
     "name": "stderr",
     "output_type": "stream",
     "text": [
      "\r",
      "100.0%"
     ]
    },
    {
     "name": "stdout",
     "output_type": "stream",
     "text": [
      "Extracting ./mnist_data/MNIST\\raw\\t10k-labels-idx1-ubyte.gz to ./mnist_data/MNIST\\raw\n",
      "\n"
     ]
    },
    {
     "name": "stderr",
     "output_type": "stream",
     "text": [
      "\n"
     ]
    }
   ],
   "source": [
    "# 7.3\n",
    "# MNIST dataset\n",
    "train_dataset = torchvision.datasets.MNIST(root='./mnist_data/',\n",
    "                                           train=True, \n",
    "                                           transform=transforms.ToTensor(),\n",
    "                                           download=True)\n",
    "\n",
    "test_dataset = torchvision.datasets.MNIST(root='./mnist_data/',\n",
    "                                          train=False, \n",
    "                                          transform=transforms.ToTensor())\n",
    "\n",
    "# Data loader\n",
    "train_loader = torch.utils.data.DataLoader(dataset=train_dataset,\n",
    "                                           batch_size=batch_size, \n",
    "                                           shuffle=True)\n",
    "\n",
    "test_loader = torch.utils.data.DataLoader(dataset=test_dataset,\n",
    "                                          batch_size=batch_size, \n",
    "                                          shuffle=False)"
   ]
  },
  {
   "cell_type": "markdown",
   "metadata": {
    "id": "O10KVzWYM2xG"
   },
   "source": [
    "### Progress monitor\n",
    "---"
   ]
  },
  {
   "cell_type": "code",
   "execution_count": 5,
   "metadata": {
    "id": "wTX3NK7-M2xG"
   },
   "outputs": [],
   "source": [
    "from IPython.display import HTML, display\n",
    "\n",
    "\n",
    "# Custom IPython progress bar for training\n",
    "class ProgressMonitor(object):\n",
    "    \n",
    "    tmpl = \"\"\"\n",
    "        <table style=\"width: 100%;\">\n",
    "            <tbody>\n",
    "                <tr>\n",
    "                    <td style=\"width: 30%;\">\n",
    "                     <b>Loss: {loss:0.4f}</b> &nbsp&nbsp&nbsp {value} / {length}\n",
    "                    </td>\n",
    "                    <td style=\"width: 70%;\">\n",
    "                        <progress value='{value}' max='{length}', style='width: 100%'>{value}</progress>\n",
    "                    </td>\n",
    "                </tr>\n",
    "            </tbody>\n",
    "        </table>        \n",
    "        \"\"\"\n",
    "\n",
    "    def __init__(self, length):\n",
    "        self.length = length\n",
    "        self.count = 0\n",
    "        self.display = display(self.html(0, 0), display_id=True)\n",
    "        \n",
    "    def html(self, count, loss):\n",
    "        return HTML(self.tmpl.format(length=self.length, value=count, loss=loss))\n",
    "        \n",
    "    def update(self, count, loss):\n",
    "        self.count += count\n",
    "        self.display.update(self.html(self.count, loss))"
   ]
  },
  {
   "cell_type": "markdown",
   "metadata": {
    "id": "2z3X8Yx7M2xI"
   },
   "source": [
    "### Define CNN models\n",
    "___"
   ]
  },
  {
   "cell_type": "markdown",
   "metadata": {},
   "source": [
    "* nn.Conv2d(in_channels=C, out_channels=FN, kernel_size=FH)"
   ]
  },
  {
   "attachments": {
    "image.png": {
     "image/png": "[encoded data removed]"
    }
   },
   "cell_type": "markdown",
   "metadata": {},
   "source": [
    "![image.png](attachment:image.png)"
   ]
  },
  {
   "cell_type": "code",
   "execution_count": 6,
   "metadata": {
    "id": "IhK3lgtIM2xJ"
   },
   "outputs": [],
   "source": [
    "class ConvNet1(nn.Module):\n",
    "    def __init__(self, num_classes=10):\n",
    "        super().__init__()\n",
    "        \n",
    "        # nn.Sequential 정의 - 여러 레이어를 순차적으로 그룹화\n",
    "        self.layer1 = nn.Sequential(\n",
    "            # Conv2d - conv layer (입력 채널 1, 출력 채널 30, 필터사이즈 5x5, 스트라이드 1\n",
    "            nn.Conv2d(1, 30, kernel_size=5, stride=1, padding=0),\n",
    "            # BatchNorm2d - 배치정규화 layer, 채널은 30\n",
    "            nn.BatchNorm2d(30),\n",
    "            nn.ReLU(),\n",
    "            # MaxPool2d - 2x2 max pool\n",
    "            nn.MaxPool2d(kernel_size=2, stride=2))\n",
    "\n",
    "        # fc layer - 입력: 12*12*30 출력: num_classes\n",
    "        self.fc = nn.Linear(12*12*30, num_classes)\n",
    "    def forward(self, x):\n",
    "        # layer1 통과\n",
    "        out = self.layer1(x) # (100,30,12,12) 로 나옴\n",
    "        # fc layer 입력 전 reshape -> ( 미니배치 사이즈, 나머지는 일렬로 )\n",
    "        out = out.reshape(out.size(0), -1) # (100, 30*12*12) 로 reshape\n",
    "        # fc layer 통과\n",
    "        out = self.fc(out)\n",
    "        return out"
   ]
  },
  {
   "cell_type": "code",
   "execution_count": 7,
   "metadata": {
    "id": "u7vA1a7NM2xL"
   },
   "outputs": [],
   "source": [
    "# 7.7 모델 생성\n",
    "\n",
    "model = ConvNet1(num_classes).to(device)"
   ]
  },
  {
   "cell_type": "code",
   "execution_count": 8,
   "metadata": {
    "id": "mSdGu8YRM2xM"
   },
   "outputs": [],
   "source": [
    "# 7.8 손실함수 - Cross entropy loss, optimizer - Adam\n",
    "# 출력 class 가 여러개(10개) 이므로 crossentropy 사용\n",
    "\n",
    "loss_func = nn.CrossEntropyLoss()\n",
    "optimizer = torch.optim.Adam(model.parameters(), lr=learning_rate)"
   ]
  },
  {
   "cell_type": "markdown",
   "metadata": {
    "id": "pQyAm_yWM2xS"
   },
   "source": [
    "### Train\n",
    "---"
   ]
  },
  {
   "cell_type": "code",
   "execution_count": 9,
   "metadata": {
    "id": "uXq8-IvNM2xT"
   },
   "outputs": [],
   "source": [
    "# 7.9 Train\n",
    "\n",
    "# train 함수\n",
    "def train():\n",
    "    # 훈련 모드\n",
    "    model.train()\n",
    "\n",
    "    # progress bar 생성\n",
    "    batch_loss_list = []\n",
    "    progress = ProgressMonitor(length=len(train_dataset))\n",
    "\n",
    "    for batch, target in train_loader:\n",
    "        # train batch를 GPU로\n",
    "        batch, target = batch.to(device), target.to(device)\n",
    "\n",
    "        # 순전파\n",
    "        output = model( batch )\n",
    "\n",
    "        # 손실계산\n",
    "        loss = loss_func( output, target )\n",
    "\n",
    "        # 기울기 초기화\n",
    "        optimizer.zero_grad()\n",
    "        # 기울기 계산\n",
    "        loss.backward()\n",
    "        # 가중치 갱신\n",
    "        optimizer.step()\n",
    "        \n",
    "        # update progress bar\n",
    "        batch_loss_list.append(loss.item())\n",
    "        progress.update(batch.shape[0], sum(batch_loss_list)/len(batch_loss_list) )"
   ]
  },
  {
   "cell_type": "code",
   "execution_count": 10,
   "metadata": {
    "id": "cKkLYuWkM2xU"
   },
   "outputs": [],
   "source": [
    "# test 함수\n",
    "def test():\n",
    "    # test 모드\n",
    "    model.eval()\n",
    "\n",
    "    correct = 0\n",
    "\n",
    "    # no_grad to save memory\n",
    "    with torch.no_grad():\n",
    "        for batch, target in test_loader:\n",
    "        # test batch를 GPU로\n",
    "            batch, target = batch.to(device), target.to(device)\n",
    "            \n",
    "            # 순전파\n",
    "            output = model( batch )\n",
    "            \n",
    "            # 최고 인덱스\n",
    "            output = torch.argmax(output, 1)\n",
    "            \n",
    "            # 정답과 비교 후 correct 누적\n",
    "            correct += (output == target).sum().item()\n",
    "        \n",
    "    # 정확도 계산\n",
    "    acc = 100 * float(correct) / len(test_dataset)\n",
    "    print( 'Test accuracy: {}/{} ({:.2f}%)'.format( correct, len(test_dataset), acc ) )"
   ]
  },
  {
   "cell_type": "code",
   "execution_count": 11,
   "metadata": {
    "colab": {
     "base_uri": "https://localhost:8080/",
     "height": 1000
    },
    "id": "ZR-CkDGAM2xW",
    "outputId": "72760f40-7715-44aa-f1ce-7d1fe005dbb4"
   },
   "outputs": [
    {
     "data": {
      "text/html": [
       "\n",
       "        <table style=\"width: 100%;\">\n",
       "            <tbody>\n",
       "                <tr>\n",
       "                    <td style=\"width: 30%;\">\n",
       "                     <b>Loss: 0.4284</b> &nbsp&nbsp&nbsp 60000 / 60000\n",
       "                    </td>\n",
       "                    <td style=\"width: 70%;\">\n",
       "                        <progress value='60000' max='60000', style='width: 100%'>60000</progress>\n",
       "                    </td>\n",
       "                </tr>\n",
       "            </tbody>\n",
       "        </table>        \n",
       "        "
      ],
      "text/plain": [
       "<IPython.core.display.HTML object>"
      ]
     },
     "metadata": {},
     "output_type": "display_data"
    },
    {
     "name": "stdout",
     "output_type": "stream",
     "text": [
      "Test accuracy: 9490/10000 (94.90%)\n"
     ]
    },
    {
     "data": {
      "text/html": [
       "\n",
       "        <table style=\"width: 100%;\">\n",
       "            <tbody>\n",
       "                <tr>\n",
       "                    <td style=\"width: 30%;\">\n",
       "                     <b>Loss: 0.1548</b> &nbsp&nbsp&nbsp 60000 / 60000\n",
       "                    </td>\n",
       "                    <td style=\"width: 70%;\">\n",
       "                        <progress value='60000' max='60000', style='width: 100%'>60000</progress>\n",
       "                    </td>\n",
       "                </tr>\n",
       "            </tbody>\n",
       "        </table>        \n",
       "        "
      ],
      "text/plain": [
       "<IPython.core.display.HTML object>"
      ]
     },
     "metadata": {},
     "output_type": "display_data"
    },
    {
     "name": "stdout",
     "output_type": "stream",
     "text": [
      "Test accuracy: 9668/10000 (96.68%)\n"
     ]
    },
    {
     "data": {
      "text/html": [
       "\n",
       "        <table style=\"width: 100%;\">\n",
       "            <tbody>\n",
       "                <tr>\n",
       "                    <td style=\"width: 30%;\">\n",
       "                     <b>Loss: 0.1054</b> &nbsp&nbsp&nbsp 60000 / 60000\n",
       "                    </td>\n",
       "                    <td style=\"width: 70%;\">\n",
       "                        <progress value='60000' max='60000', style='width: 100%'>60000</progress>\n",
       "                    </td>\n",
       "                </tr>\n",
       "            </tbody>\n",
       "        </table>        \n",
       "        "
      ],
      "text/plain": [
       "<IPython.core.display.HTML object>"
      ]
     },
     "metadata": {},
     "output_type": "display_data"
    },
    {
     "name": "stdout",
     "output_type": "stream",
     "text": [
      "Test accuracy: 9732/10000 (97.32%)\n"
     ]
    },
    {
     "data": {
      "text/html": [
       "\n",
       "        <table style=\"width: 100%;\">\n",
       "            <tbody>\n",
       "                <tr>\n",
       "                    <td style=\"width: 30%;\">\n",
       "                     <b>Loss: 0.0799</b> &nbsp&nbsp&nbsp 60000 / 60000\n",
       "                    </td>\n",
       "                    <td style=\"width: 70%;\">\n",
       "                        <progress value='60000' max='60000', style='width: 100%'>60000</progress>\n",
       "                    </td>\n",
       "                </tr>\n",
       "            </tbody>\n",
       "        </table>        \n",
       "        "
      ],
      "text/plain": [
       "<IPython.core.display.HTML object>"
      ]
     },
     "metadata": {},
     "output_type": "display_data"
    },
    {
     "name": "stdout",
     "output_type": "stream",
     "text": [
      "Test accuracy: 9803/10000 (98.03%)\n"
     ]
    },
    {
     "data": {
      "text/html": [
       "\n",
       "        <table style=\"width: 100%;\">\n",
       "            <tbody>\n",
       "                <tr>\n",
       "                    <td style=\"width: 30%;\">\n",
       "                     <b>Loss: 0.0658</b> &nbsp&nbsp&nbsp 60000 / 60000\n",
       "                    </td>\n",
       "                    <td style=\"width: 70%;\">\n",
       "                        <progress value='60000' max='60000', style='width: 100%'>60000</progress>\n",
       "                    </td>\n",
       "                </tr>\n",
       "            </tbody>\n",
       "        </table>        \n",
       "        "
      ],
      "text/plain": [
       "<IPython.core.display.HTML object>"
      ]
     },
     "metadata": {},
     "output_type": "display_data"
    },
    {
     "name": "stdout",
     "output_type": "stream",
     "text": [
      "Test accuracy: 9804/10000 (98.04%)\n"
     ]
    },
    {
     "data": {
      "text/html": [
       "\n",
       "        <table style=\"width: 100%;\">\n",
       "            <tbody>\n",
       "                <tr>\n",
       "                    <td style=\"width: 30%;\">\n",
       "                     <b>Loss: 0.0560</b> &nbsp&nbsp&nbsp 60000 / 60000\n",
       "                    </td>\n",
       "                    <td style=\"width: 70%;\">\n",
       "                        <progress value='60000' max='60000', style='width: 100%'>60000</progress>\n",
       "                    </td>\n",
       "                </tr>\n",
       "            </tbody>\n",
       "        </table>        \n",
       "        "
      ],
      "text/plain": [
       "<IPython.core.display.HTML object>"
      ]
     },
     "metadata": {},
     "output_type": "display_data"
    },
    {
     "name": "stdout",
     "output_type": "stream",
     "text": [
      "Test accuracy: 9825/10000 (98.25%)\n"
     ]
    },
    {
     "data": {
      "text/html": [
       "\n",
       "        <table style=\"width: 100%;\">\n",
       "            <tbody>\n",
       "                <tr>\n",
       "                    <td style=\"width: 30%;\">\n",
       "                     <b>Loss: 0.0489</b> &nbsp&nbsp&nbsp 60000 / 60000\n",
       "                    </td>\n",
       "                    <td style=\"width: 70%;\">\n",
       "                        <progress value='60000' max='60000', style='width: 100%'>60000</progress>\n",
       "                    </td>\n",
       "                </tr>\n",
       "            </tbody>\n",
       "        </table>        \n",
       "        "
      ],
      "text/plain": [
       "<IPython.core.display.HTML object>"
      ]
     },
     "metadata": {},
     "output_type": "display_data"
    },
    {
     "name": "stdout",
     "output_type": "stream",
     "text": [
      "Test accuracy: 9809/10000 (98.09%)\n"
     ]
    },
    {
     "data": {
      "text/html": [
       "\n",
       "        <table style=\"width: 100%;\">\n",
       "            <tbody>\n",
       "                <tr>\n",
       "                    <td style=\"width: 30%;\">\n",
       "                     <b>Loss: 0.0434</b> &nbsp&nbsp&nbsp 60000 / 60000\n",
       "                    </td>\n",
       "                    <td style=\"width: 70%;\">\n",
       "                        <progress value='60000' max='60000', style='width: 100%'>60000</progress>\n",
       "                    </td>\n",
       "                </tr>\n",
       "            </tbody>\n",
       "        </table>        \n",
       "        "
      ],
      "text/plain": [
       "<IPython.core.display.HTML object>"
      ]
     },
     "metadata": {},
     "output_type": "display_data"
    },
    {
     "name": "stdout",
     "output_type": "stream",
     "text": [
      "Test accuracy: 9837/10000 (98.37%)\n"
     ]
    },
    {
     "data": {
      "text/html": [
       "\n",
       "        <table style=\"width: 100%;\">\n",
       "            <tbody>\n",
       "                <tr>\n",
       "                    <td style=\"width: 30%;\">\n",
       "                     <b>Loss: 0.0393</b> &nbsp&nbsp&nbsp 60000 / 60000\n",
       "                    </td>\n",
       "                    <td style=\"width: 70%;\">\n",
       "                        <progress value='60000' max='60000', style='width: 100%'>60000</progress>\n",
       "                    </td>\n",
       "                </tr>\n",
       "            </tbody>\n",
       "        </table>        \n",
       "        "
      ],
      "text/plain": [
       "<IPython.core.display.HTML object>"
      ]
     },
     "metadata": {},
     "output_type": "display_data"
    },
    {
     "name": "stdout",
     "output_type": "stream",
     "text": [
      "Test accuracy: 9842/10000 (98.42%)\n"
     ]
    },
    {
     "data": {
      "text/html": [
       "\n",
       "        <table style=\"width: 100%;\">\n",
       "            <tbody>\n",
       "                <tr>\n",
       "                    <td style=\"width: 30%;\">\n",
       "                     <b>Loss: 0.0356</b> &nbsp&nbsp&nbsp 60000 / 60000\n",
       "                    </td>\n",
       "                    <td style=\"width: 70%;\">\n",
       "                        <progress value='60000' max='60000', style='width: 100%'>60000</progress>\n",
       "                    </td>\n",
       "                </tr>\n",
       "            </tbody>\n",
       "        </table>        \n",
       "        "
      ],
      "text/plain": [
       "<IPython.core.display.HTML object>"
      ]
     },
     "metadata": {},
     "output_type": "display_data"
    },
    {
     "name": "stdout",
     "output_type": "stream",
     "text": [
      "Test accuracy: 9851/10000 (98.51%)\n"
     ]
    },
    {
     "data": {
      "text/html": [
       "\n",
       "        <table style=\"width: 100%;\">\n",
       "            <tbody>\n",
       "                <tr>\n",
       "                    <td style=\"width: 30%;\">\n",
       "                     <b>Loss: 0.0337</b> &nbsp&nbsp&nbsp 60000 / 60000\n",
       "                    </td>\n",
       "                    <td style=\"width: 70%;\">\n",
       "                        <progress value='60000' max='60000', style='width: 100%'>60000</progress>\n",
       "                    </td>\n",
       "                </tr>\n",
       "            </tbody>\n",
       "        </table>        \n",
       "        "
      ],
      "text/plain": [
       "<IPython.core.display.HTML object>"
      ]
     },
     "metadata": {},
     "output_type": "display_data"
    },
    {
     "name": "stdout",
     "output_type": "stream",
     "text": [
      "Test accuracy: 9847/10000 (98.47%)\n"
     ]
    },
    {
     "data": {
      "text/html": [
       "\n",
       "        <table style=\"width: 100%;\">\n",
       "            <tbody>\n",
       "                <tr>\n",
       "                    <td style=\"width: 30%;\">\n",
       "                     <b>Loss: 0.0306</b> &nbsp&nbsp&nbsp 60000 / 60000\n",
       "                    </td>\n",
       "                    <td style=\"width: 70%;\">\n",
       "                        <progress value='60000' max='60000', style='width: 100%'>60000</progress>\n",
       "                    </td>\n",
       "                </tr>\n",
       "            </tbody>\n",
       "        </table>        \n",
       "        "
      ],
      "text/plain": [
       "<IPython.core.display.HTML object>"
      ]
     },
     "metadata": {},
     "output_type": "display_data"
    },
    {
     "name": "stdout",
     "output_type": "stream",
     "text": [
      "Test accuracy: 9847/10000 (98.47%)\n"
     ]
    },
    {
     "data": {
      "text/html": [
       "\n",
       "        <table style=\"width: 100%;\">\n",
       "            <tbody>\n",
       "                <tr>\n",
       "                    <td style=\"width: 30%;\">\n",
       "                     <b>Loss: 0.0279</b> &nbsp&nbsp&nbsp 60000 / 60000\n",
       "                    </td>\n",
       "                    <td style=\"width: 70%;\">\n",
       "                        <progress value='60000' max='60000', style='width: 100%'>60000</progress>\n",
       "                    </td>\n",
       "                </tr>\n",
       "            </tbody>\n",
       "        </table>        \n",
       "        "
      ],
      "text/plain": [
       "<IPython.core.display.HTML object>"
      ]
     },
     "metadata": {},
     "output_type": "display_data"
    },
    {
     "name": "stdout",
     "output_type": "stream",
     "text": [
      "Test accuracy: 9852/10000 (98.52%)\n"
     ]
    },
    {
     "data": {
      "text/html": [
       "\n",
       "        <table style=\"width: 100%;\">\n",
       "            <tbody>\n",
       "                <tr>\n",
       "                    <td style=\"width: 30%;\">\n",
       "                     <b>Loss: 0.0258</b> &nbsp&nbsp&nbsp 60000 / 60000\n",
       "                    </td>\n",
       "                    <td style=\"width: 70%;\">\n",
       "                        <progress value='60000' max='60000', style='width: 100%'>60000</progress>\n",
       "                    </td>\n",
       "                </tr>\n",
       "            </tbody>\n",
       "        </table>        \n",
       "        "
      ],
      "text/plain": [
       "<IPython.core.display.HTML object>"
      ]
     },
     "metadata": {},
     "output_type": "display_data"
    },
    {
     "name": "stdout",
     "output_type": "stream",
     "text": [
      "Test accuracy: 9855/10000 (98.55%)\n"
     ]
    },
    {
     "data": {
      "text/html": [
       "\n",
       "        <table style=\"width: 100%;\">\n",
       "            <tbody>\n",
       "                <tr>\n",
       "                    <td style=\"width: 30%;\">\n",
       "                     <b>Loss: 0.0244</b> &nbsp&nbsp&nbsp 60000 / 60000\n",
       "                    </td>\n",
       "                    <td style=\"width: 70%;\">\n",
       "                        <progress value='60000' max='60000', style='width: 100%'>60000</progress>\n",
       "                    </td>\n",
       "                </tr>\n",
       "            </tbody>\n",
       "        </table>        \n",
       "        "
      ],
      "text/plain": [
       "<IPython.core.display.HTML object>"
      ]
     },
     "metadata": {},
     "output_type": "display_data"
    },
    {
     "name": "stdout",
     "output_type": "stream",
     "text": [
      "Test accuracy: 9854/10000 (98.54%)\n"
     ]
    },
    {
     "data": {
      "text/html": [
       "\n",
       "        <table style=\"width: 100%;\">\n",
       "            <tbody>\n",
       "                <tr>\n",
       "                    <td style=\"width: 30%;\">\n",
       "                     <b>Loss: 0.0228</b> &nbsp&nbsp&nbsp 60000 / 60000\n",
       "                    </td>\n",
       "                    <td style=\"width: 70%;\">\n",
       "                        <progress value='60000' max='60000', style='width: 100%'>60000</progress>\n",
       "                    </td>\n",
       "                </tr>\n",
       "            </tbody>\n",
       "        </table>        \n",
       "        "
      ],
      "text/plain": [
       "<IPython.core.display.HTML object>"
      ]
     },
     "metadata": {},
     "output_type": "display_data"
    },
    {
     "name": "stdout",
     "output_type": "stream",
     "text": [
      "Test accuracy: 9839/10000 (98.39%)\n"
     ]
    },
    {
     "data": {
      "text/html": [
       "\n",
       "        <table style=\"width: 100%;\">\n",
       "            <tbody>\n",
       "                <tr>\n",
       "                    <td style=\"width: 30%;\">\n",
       "                     <b>Loss: 0.0212</b> &nbsp&nbsp&nbsp 60000 / 60000\n",
       "                    </td>\n",
       "                    <td style=\"width: 70%;\">\n",
       "                        <progress value='60000' max='60000', style='width: 100%'>60000</progress>\n",
       "                    </td>\n",
       "                </tr>\n",
       "            </tbody>\n",
       "        </table>        \n",
       "        "
      ],
      "text/plain": [
       "<IPython.core.display.HTML object>"
      ]
     },
     "metadata": {},
     "output_type": "display_data"
    },
    {
     "name": "stdout",
     "output_type": "stream",
     "text": [
      "Test accuracy: 9861/10000 (98.61%)\n"
     ]
    },
    {
     "data": {
      "text/html": [
       "\n",
       "        <table style=\"width: 100%;\">\n",
       "            <tbody>\n",
       "                <tr>\n",
       "                    <td style=\"width: 30%;\">\n",
       "                     <b>Loss: 0.0203</b> &nbsp&nbsp&nbsp 60000 / 60000\n",
       "                    </td>\n",
       "                    <td style=\"width: 70%;\">\n",
       "                        <progress value='60000' max='60000', style='width: 100%'>60000</progress>\n",
       "                    </td>\n",
       "                </tr>\n",
       "            </tbody>\n",
       "        </table>        \n",
       "        "
      ],
      "text/plain": [
       "<IPython.core.display.HTML object>"
      ]
     },
     "metadata": {},
     "output_type": "display_data"
    },
    {
     "name": "stdout",
     "output_type": "stream",
     "text": [
      "Test accuracy: 9862/10000 (98.62%)\n"
     ]
    },
    {
     "data": {
      "text/html": [
       "\n",
       "        <table style=\"width: 100%;\">\n",
       "            <tbody>\n",
       "                <tr>\n",
       "                    <td style=\"width: 30%;\">\n",
       "                     <b>Loss: 0.0179</b> &nbsp&nbsp&nbsp 60000 / 60000\n",
       "                    </td>\n",
       "                    <td style=\"width: 70%;\">\n",
       "                        <progress value='60000' max='60000', style='width: 100%'>60000</progress>\n",
       "                    </td>\n",
       "                </tr>\n",
       "            </tbody>\n",
       "        </table>        \n",
       "        "
      ],
      "text/plain": [
       "<IPython.core.display.HTML object>"
      ]
     },
     "metadata": {},
     "output_type": "display_data"
    },
    {
     "name": "stdout",
     "output_type": "stream",
     "text": [
      "Test accuracy: 9850/10000 (98.50%)\n"
     ]
    },
    {
     "data": {
      "text/html": [
       "\n",
       "        <table style=\"width: 100%;\">\n",
       "            <tbody>\n",
       "                <tr>\n",
       "                    <td style=\"width: 30%;\">\n",
       "                     <b>Loss: 0.0174</b> &nbsp&nbsp&nbsp 60000 / 60000\n",
       "                    </td>\n",
       "                    <td style=\"width: 70%;\">\n",
       "                        <progress value='60000' max='60000', style='width: 100%'>60000</progress>\n",
       "                    </td>\n",
       "                </tr>\n",
       "            </tbody>\n",
       "        </table>        \n",
       "        "
      ],
      "text/plain": [
       "<IPython.core.display.HTML object>"
      ]
     },
     "metadata": {},
     "output_type": "display_data"
    },
    {
     "name": "stdout",
     "output_type": "stream",
     "text": [
      "Test accuracy: 9852/10000 (98.52%)\n"
     ]
    },
    {
     "data": {
      "text/html": [
       "\n",
       "        <table style=\"width: 100%;\">\n",
       "            <tbody>\n",
       "                <tr>\n",
       "                    <td style=\"width: 30%;\">\n",
       "                     <b>Loss: 0.0158</b> &nbsp&nbsp&nbsp 60000 / 60000\n",
       "                    </td>\n",
       "                    <td style=\"width: 70%;\">\n",
       "                        <progress value='60000' max='60000', style='width: 100%'>60000</progress>\n",
       "                    </td>\n",
       "                </tr>\n",
       "            </tbody>\n",
       "        </table>        \n",
       "        "
      ],
      "text/plain": [
       "<IPython.core.display.HTML object>"
      ]
     },
     "metadata": {},
     "output_type": "display_data"
    },
    {
     "name": "stdout",
     "output_type": "stream",
     "text": [
      "Test accuracy: 9861/10000 (98.61%)\n"
     ]
    },
    {
     "data": {
      "text/html": [
       "\n",
       "        <table style=\"width: 100%;\">\n",
       "            <tbody>\n",
       "                <tr>\n",
       "                    <td style=\"width: 30%;\">\n",
       "                     <b>Loss: 0.0139</b> &nbsp&nbsp&nbsp 60000 / 60000\n",
       "                    </td>\n",
       "                    <td style=\"width: 70%;\">\n",
       "                        <progress value='60000' max='60000', style='width: 100%'>60000</progress>\n",
       "                    </td>\n",
       "                </tr>\n",
       "            </tbody>\n",
       "        </table>        \n",
       "        "
      ],
      "text/plain": [
       "<IPython.core.display.HTML object>"
      ]
     },
     "metadata": {},
     "output_type": "display_data"
    },
    {
     "name": "stdout",
     "output_type": "stream",
     "text": [
      "Test accuracy: 9855/10000 (98.55%)\n"
     ]
    },
    {
     "data": {
      "text/html": [
       "\n",
       "        <table style=\"width: 100%;\">\n",
       "            <tbody>\n",
       "                <tr>\n",
       "                    <td style=\"width: 30%;\">\n",
       "                     <b>Loss: 0.0139</b> &nbsp&nbsp&nbsp 60000 / 60000\n",
       "                    </td>\n",
       "                    <td style=\"width: 70%;\">\n",
       "                        <progress value='60000' max='60000', style='width: 100%'>60000</progress>\n",
       "                    </td>\n",
       "                </tr>\n",
       "            </tbody>\n",
       "        </table>        \n",
       "        "
      ],
      "text/plain": [
       "<IPython.core.display.HTML object>"
      ]
     },
     "metadata": {},
     "output_type": "display_data"
    },
    {
     "name": "stdout",
     "output_type": "stream",
     "text": [
      "Test accuracy: 9849/10000 (98.49%)\n"
     ]
    },
    {
     "data": {
      "text/html": [
       "\n",
       "        <table style=\"width: 100%;\">\n",
       "            <tbody>\n",
       "                <tr>\n",
       "                    <td style=\"width: 30%;\">\n",
       "                     <b>Loss: 0.0120</b> &nbsp&nbsp&nbsp 60000 / 60000\n",
       "                    </td>\n",
       "                    <td style=\"width: 70%;\">\n",
       "                        <progress value='60000' max='60000', style='width: 100%'>60000</progress>\n",
       "                    </td>\n",
       "                </tr>\n",
       "            </tbody>\n",
       "        </table>        \n",
       "        "
      ],
      "text/plain": [
       "<IPython.core.display.HTML object>"
      ]
     },
     "metadata": {},
     "output_type": "display_data"
    },
    {
     "name": "stdout",
     "output_type": "stream",
     "text": [
      "Test accuracy: 9855/10000 (98.55%)\n"
     ]
    },
    {
     "data": {
      "text/html": [
       "\n",
       "        <table style=\"width: 100%;\">\n",
       "            <tbody>\n",
       "                <tr>\n",
       "                    <td style=\"width: 30%;\">\n",
       "                     <b>Loss: 0.0115</b> &nbsp&nbsp&nbsp 60000 / 60000\n",
       "                    </td>\n",
       "                    <td style=\"width: 70%;\">\n",
       "                        <progress value='60000' max='60000', style='width: 100%'>60000</progress>\n",
       "                    </td>\n",
       "                </tr>\n",
       "            </tbody>\n",
       "        </table>        \n",
       "        "
      ],
      "text/plain": [
       "<IPython.core.display.HTML object>"
      ]
     },
     "metadata": {},
     "output_type": "display_data"
    },
    {
     "name": "stdout",
     "output_type": "stream",
     "text": [
      "Test accuracy: 9857/10000 (98.57%)\n"
     ]
    },
    {
     "data": {
      "text/html": [
       "\n",
       "        <table style=\"width: 100%;\">\n",
       "            <tbody>\n",
       "                <tr>\n",
       "                    <td style=\"width: 30%;\">\n",
       "                     <b>Loss: 0.0102</b> &nbsp&nbsp&nbsp 60000 / 60000\n",
       "                    </td>\n",
       "                    <td style=\"width: 70%;\">\n",
       "                        <progress value='60000' max='60000', style='width: 100%'>60000</progress>\n",
       "                    </td>\n",
       "                </tr>\n",
       "            </tbody>\n",
       "        </table>        \n",
       "        "
      ],
      "text/plain": [
       "<IPython.core.display.HTML object>"
      ]
     },
     "metadata": {},
     "output_type": "display_data"
    },
    {
     "name": "stdout",
     "output_type": "stream",
     "text": [
      "Test accuracy: 9851/10000 (98.51%)\n"
     ]
    },
    {
     "data": {
      "text/html": [
       "\n",
       "        <table style=\"width: 100%;\">\n",
       "            <tbody>\n",
       "                <tr>\n",
       "                    <td style=\"width: 30%;\">\n",
       "                     <b>Loss: 0.0099</b> &nbsp&nbsp&nbsp 60000 / 60000\n",
       "                    </td>\n",
       "                    <td style=\"width: 70%;\">\n",
       "                        <progress value='60000' max='60000', style='width: 100%'>60000</progress>\n",
       "                    </td>\n",
       "                </tr>\n",
       "            </tbody>\n",
       "        </table>        \n",
       "        "
      ],
      "text/plain": [
       "<IPython.core.display.HTML object>"
      ]
     },
     "metadata": {},
     "output_type": "display_data"
    },
    {
     "name": "stdout",
     "output_type": "stream",
     "text": [
      "Test accuracy: 9858/10000 (98.58%)\n"
     ]
    },
    {
     "data": {
      "text/html": [
       "\n",
       "        <table style=\"width: 100%;\">\n",
       "            <tbody>\n",
       "                <tr>\n",
       "                    <td style=\"width: 30%;\">\n",
       "                     <b>Loss: 0.0096</b> &nbsp&nbsp&nbsp 60000 / 60000\n",
       "                    </td>\n",
       "                    <td style=\"width: 70%;\">\n",
       "                        <progress value='60000' max='60000', style='width: 100%'>60000</progress>\n",
       "                    </td>\n",
       "                </tr>\n",
       "            </tbody>\n",
       "        </table>        \n",
       "        "
      ],
      "text/plain": [
       "<IPython.core.display.HTML object>"
      ]
     },
     "metadata": {},
     "output_type": "display_data"
    },
    {
     "name": "stdout",
     "output_type": "stream",
     "text": [
      "Test accuracy: 9841/10000 (98.41%)\n"
     ]
    },
    {
     "data": {
      "text/html": [
       "\n",
       "        <table style=\"width: 100%;\">\n",
       "            <tbody>\n",
       "                <tr>\n",
       "                    <td style=\"width: 30%;\">\n",
       "                     <b>Loss: 0.0086</b> &nbsp&nbsp&nbsp 60000 / 60000\n",
       "                    </td>\n",
       "                    <td style=\"width: 70%;\">\n",
       "                        <progress value='60000' max='60000', style='width: 100%'>60000</progress>\n",
       "                    </td>\n",
       "                </tr>\n",
       "            </tbody>\n",
       "        </table>        \n",
       "        "
      ],
      "text/plain": [
       "<IPython.core.display.HTML object>"
      ]
     },
     "metadata": {},
     "output_type": "display_data"
    },
    {
     "name": "stdout",
     "output_type": "stream",
     "text": [
      "Test accuracy: 9860/10000 (98.60%)\n"
     ]
    },
    {
     "data": {
      "text/html": [
       "\n",
       "        <table style=\"width: 100%;\">\n",
       "            <tbody>\n",
       "                <tr>\n",
       "                    <td style=\"width: 30%;\">\n",
       "                     <b>Loss: 0.0080</b> &nbsp&nbsp&nbsp 60000 / 60000\n",
       "                    </td>\n",
       "                    <td style=\"width: 70%;\">\n",
       "                        <progress value='60000' max='60000', style='width: 100%'>60000</progress>\n",
       "                    </td>\n",
       "                </tr>\n",
       "            </tbody>\n",
       "        </table>        \n",
       "        "
      ],
      "text/plain": [
       "<IPython.core.display.HTML object>"
      ]
     },
     "metadata": {},
     "output_type": "display_data"
    },
    {
     "name": "stdout",
     "output_type": "stream",
     "text": [
      "Test accuracy: 9865/10000 (98.65%)\n"
     ]
    }
   ],
   "source": [
    "# main loop\n",
    "\n",
    "for epoch in range(num_epochs):\n",
    "    train()\n",
    "    test()"
   ]
  },
  {
   "cell_type": "markdown",
   "metadata": {},
   "source": [
    "## 참고: ConvNet2, ConvNet3"
   ]
  },
  {
   "attachments": {
    "image.png": {
     "image/png": "[encoded data removed]"
    }
   },
   "cell_type": "markdown",
   "metadata": {},
   "source": [
    "![image.png](attachment:image.png)"
   ]
  },
  {
   "cell_type": "markdown",
   "metadata": {},
   "source": [
    "* nn.Conv2d(in_channels=C, out_channels=FN, kernel_size=FH)"
   ]
  },
  {
   "cell_type": "code",
   "execution_count": null,
   "metadata": {
    "id": "p0CIgl4RQs8Z"
   },
   "outputs": [],
   "source": [
    "# 7.5 ConvNet2 - Conv layer 2 + fc layer 1\n",
    "\n",
    "class ConvNet2(nn.Module):\n",
    "    def __init__(self, num_classes=10):\n",
    "        super().__init__()\n",
    "\n",
    "        # layer1 - nn.Sequential\n",
    "        self.layer1 = nn.Sequential(\n",
    "            # Conv2d - conv layer (입력 채널 1, 출력 채널 16, 필터사이즈 5x5, 스트라이드 1, 패딩 2)\n",
    "            nn.Conv2d(1, 16, kernel_size=5, stride=1, padding=2),\n",
    "            # BatchNorm2d - 배치정규화 layer, 채널은 16\n",
    "            nn.BatchNorm2d(16),\n",
    "            nn.ReLU(),\n",
    "            # MaxPool2d - 2x2 max pool\n",
    "            nn.MaxPool2d(kernel_size=2, stride=2))\n",
    "\n",
    "        # layer2 - nn.Sequential\n",
    "        self.layer2 = nn.Sequential(\n",
    "            # Conv2d - conv layer (입력 채널 16, 출력 채널 32, 필터사이즈 5x5, 스트라이드 1, 패딩 2)\n",
    "            nn.Conv2d(16, 32, kernel_size=5, stride=1, padding=2),\n",
    "            # BatchNorm2d - 배치정규화 layer, 채널은 32\n",
    "            nn.BatchNorm2d(32),\n",
    "            nn.ReLU(),\n",
    "            # MaxPool2d - 2x2 max pool\n",
    "            nn.MaxPool2d(kernel_size=2, stride=2))\n",
    "\n",
    "        # fc layer - 입력: 7*7*32 출력: num_classes\n",
    "        self.fc = nn.Linear(7*7*32, num_classes)\n",
    "\n",
    "    def forward(self, x):\n",
    "        # layer1 통과\n",
    "        out = self.layer1(x)\n",
    "        # layer2 통과\n",
    "        out = self.layer2(out)\n",
    "        # fc layer 입력 전 reshape -> ( 미니배치 사이즈, 나머지는 일렬로 )\n",
    "        out = out.reshape(out.size(0), -1)\n",
    "        # fc layer 통과\n",
    "        out = self.fc(out)\n",
    "        return out"
   ]
  },
  {
   "attachments": {
    "image.png": {
     "image/png": "[encoded data removed]"
    }
   },
   "cell_type": "markdown",
   "metadata": {},
   "source": [
    "![image.png](attachment:image.png)"
   ]
  },
  {
   "cell_type": "code",
   "execution_count": null,
   "metadata": {
    "id": "ND8CwYRDQugu"
   },
   "outputs": [],
   "source": [
    "# 7.6 2개의 ConvNet2 - Conv layer 2, fc layer 3\n",
    "\n",
    "class ConvNet3(nn.Module):\n",
    "        def __init__(self, num_classes=10):\n",
    "            super().__init__()\n",
    "\n",
    "            # layer1 - nn.Sequential\n",
    "            self.layer1 = nn.Sequential(\n",
    "\n",
    "                # Conv2d - conv layer (입력 채널 1, 출력 채널 16, 필터사이즈 5x5, 스트라이드 1, 패딩 2)\n",
    "                nn.Conv2d(1, 16, kernel_size=5, stride=1, padding=2),\n",
    "                # BatchNorm2d - 배치정규화 layer, 채널은 16\n",
    "                nn.BatchNorm2d(16),\n",
    "                nn.ReLU(),\n",
    "                # MaxPool2d - 2x2 max pool\n",
    "                nn.MaxPool2d(kernel_size=2, stride=2))\n",
    "\n",
    "            # layer2 - nn.Sequential\n",
    "            self.layer2 = nn.Sequential(\n",
    "\n",
    "                # Conv2d - conv layer (입력 채널 16, 출력 채널 32, 필터사이즈 5x5, 스트라이드 1, 패딩 2)\n",
    "                nn.Conv2d(16, 32, kernel_size=5, stride=1, padding=2),\n",
    "                # BatchNorm2d - 배치정규화 layer, 채널은 32\n",
    "                nn.BatchNorm2d(32),\n",
    "                nn.ReLU(),\n",
    "                # MaxPool2d - 2x2 max pool\n",
    "                nn.MaxPool2d(kernel_size=2, stride=2))\n",
    "\n",
    "            # fc - nn.Sequential\n",
    "            self.fc = nn.Sequential(\n",
    "\n",
    "                # 드롭아웃 (드롭아웃 ratio = 0.5)\n",
    "                nn.Dropout(p = 0.5),\n",
    "                # Linear layer - 입력: 32*7*7, 출력: 512\n",
    "                nn.Linear(32 * 7 * 7, 512),\n",
    "                # BatchNorm1d - 배치정규화 layer, 갯수는 512\n",
    "                nn.BatchNorm1d(512),\n",
    "                nn.ReLU(),\n",
    "                # 드롭아웃 (드롭아웃 ratio = 0.5)\n",
    "                nn.Dropout(p = 0.5),\n",
    "                # Linear layer - 입력: 512, 출력: 10\n",
    "                nn.Linear(512, 10),\n",
    "                )"
   ]
  },
  {
   "cell_type": "code",
   "execution_count": null,
   "metadata": {
    "id": "2wJNAKfkM2xY"
   },
   "outputs": [],
   "source": []
  }
 ],
 "metadata": {
  "accelerator": "GPU",
  "colab": {
   "collapsed_sections": [],
   "provenance": []
  },
  "kernelspec": {
   "display_name": "Python 3 (ipykernel)",
   "language": "python",
   "name": "python3"
  },
  "language_info": {
   "codemirror_mode": {
    "name": "ipython",
    "version": 3
   },
   "file_extension": ".py",
   "mimetype": "text/x-python",
   "name": "python",
   "nbconvert_exporter": "python",
   "pygments_lexer": "ipython3",
   "version": "3.9.13"
  }
 },
 "nbformat": 4,
 "nbformat_minor": 1
}
