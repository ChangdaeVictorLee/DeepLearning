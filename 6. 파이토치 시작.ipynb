{
 "cells": [
  {
   "cell_type": "code",
   "execution_count": 1,
   "metadata": {
    "id": "eHgtxFKymsFQ"
   },
   "outputs": [],
   "source": [
    "import torch\n",
    "import numpy as np"
   ]
  },
  {
   "cell_type": "markdown",
   "metadata": {
    "id": "MHbwJCDvmsFT"
   },
   "source": [
    "# 1. PyTorch 기본\n",
    "___"
   ]
  },
  {
   "cell_type": "code",
   "execution_count": 2,
   "metadata": {
    "colab": {
     "base_uri": "https://localhost:8080/"
    },
    "id": "0WL_wRo6msFT",
    "outputId": "084c4ddb-9a1f-4bb7-a6b6-ded6155c4c7e",
    "scrolled": true
   },
   "outputs": [
    {
     "name": "stdout",
     "output_type": "stream",
     "text": [
      "tensor([[1.4226e-13, 3.8946e+21],\n",
      "        [4.4650e+30, 7.0975e+22],\n",
      "        [7.9309e+34, 1.4603e-19]])\n"
     ]
    }
   ],
   "source": [
    "# 초기화 되지 않은 Tensor 생성\n",
    "x = torch.empty(3, 2)\n",
    "print(x)"
   ]
  },
  {
   "cell_type": "code",
   "execution_count": 3,
   "metadata": {
    "colab": {
     "base_uri": "https://localhost:8080/"
    },
    "id": "EqmXkHMVmsFV",
    "outputId": "9d2bc058-08b3-4da4-fd4b-f54e87f1074d"
   },
   "outputs": [
    {
     "name": "stdout",
     "output_type": "stream",
     "text": [
      "tensor([[0.4348, 0.2483],\n",
      "        [0.8647, 0.9764],\n",
      "        [0.0307, 0.5904]])\n"
     ]
    }
   ],
   "source": [
    "# 0~1 사이의 uniform distribution 값으로 초기화 된 Tensor를 생성\n",
    "x = torch.rand(3, 2)\n",
    "print(x)"
   ]
  },
  {
   "cell_type": "code",
   "execution_count": 4,
   "metadata": {},
   "outputs": [
    {
     "name": "stdout",
     "output_type": "stream",
     "text": [
      "tensor([[-1.5342,  0.5737],\n",
      "        [ 0.2824,  0.7125],\n",
      "        [ 0.9638,  1.0521]])\n"
     ]
    }
   ],
   "source": [
    "# Normal distribution 값으로 초기화 된 Tensor를 생성\n",
    "x = torch.randn(3, 2)\n",
    "print(x)"
   ]
  },
  {
   "cell_type": "code",
   "execution_count": 5,
   "metadata": {
    "colab": {
     "base_uri": "https://localhost:8080/"
    },
    "id": "a9W3L8PamsFX",
    "outputId": "00dc11f4-0216-419d-d426-0255d1e6a7b2"
   },
   "outputs": [
    {
     "name": "stdout",
     "output_type": "stream",
     "text": [
      "tensor([[0, 0],\n",
      "        [0, 0],\n",
      "        [0, 0]], dtype=torch.int32)\n"
     ]
    }
   ],
   "source": [
    "# 0으로 채워진 tensor를 생성\n",
    "x = torch.zeros(3, 2, dtype=torch.int)\n",
    "print(x)"
   ]
  },
  {
   "cell_type": "code",
   "execution_count": 6,
   "metadata": {
    "colab": {
     "base_uri": "https://localhost:8080/"
    },
    "id": "dGXqhMSKmsFZ",
    "outputId": "79d6bc71-5fb8-4d85-bb35-045a88f5b83f"
   },
   "outputs": [
    {
     "name": "stdout",
     "output_type": "stream",
     "text": [
      "tensor([[ 0.0236,  0.1683],\n",
      "        [ 1.0769,  0.7157],\n",
      "        [-0.3509, -0.9264]])\n"
     ]
    }
   ],
   "source": [
    "# 랜덤값을 가진, 똑같은 모양의 tensor 생성\n",
    "y = torch.randn_like(x, dtype=torch.float)\n",
    "print(y)"
   ]
  },
  {
   "cell_type": "markdown",
   "metadata": {
    "id": "ijWIISPNy1kM"
   },
   "source": [
    "#### Tensor가 CPU에 있을 때는 Numpy와 같은 메모리 공유"
   ]
  },
  {
   "cell_type": "code",
   "execution_count": 7,
   "metadata": {
    "colab": {
     "base_uri": "https://localhost:8080/"
    },
    "id": "-Mt3UG_JmsFa",
    "outputId": "2d036b48-5a07-4973-9a86-21e4463f1a52",
    "scrolled": true
   },
   "outputs": [
    {
     "name": "stdout",
     "output_type": "stream",
     "text": [
      "tensor([1., 1., 1., 1., 1.])\n",
      "[1. 1. 1. 1. 1.]\n",
      "tensor([2., 2., 2., 2., 2.])\n",
      "[2. 2. 2. 2. 2.]\n"
     ]
    }
   ],
   "source": [
    "# Tensor에서 numpy로 변환\n",
    "a = torch.ones(5)\n",
    "print(a)\n",
    "b = a.numpy()\n",
    "print(b)\n",
    "a.add_(1)\n",
    "print(a)\n",
    "print(b)"
   ]
  },
  {
   "cell_type": "code",
   "execution_count": 8,
   "metadata": {
    "colab": {
     "base_uri": "https://localhost:8080/"
    },
    "id": "cqmVGZMBmsFc",
    "outputId": "25033de5-5203-498c-8f6d-08ad1f574b70"
   },
   "outputs": [
    {
     "name": "stdout",
     "output_type": "stream",
     "text": [
      "[2. 2. 2. 2. 2.]\n",
      "tensor([2., 2., 2., 2., 2.], dtype=torch.float64)\n"
     ]
    }
   ],
   "source": [
    "# Numpy에서 tensor로 변환\n",
    "a = np.ones(5)\n",
    "b = torch.from_numpy(a)\n",
    "np.add(a, 1, out=a)\n",
    "print(a)\n",
    "print(b)"
   ]
  },
  {
   "cell_type": "code",
   "execution_count": 9,
   "metadata": {
    "colab": {
     "base_uri": "https://localhost:8080/"
    },
    "id": "NBkiwcblmsFd",
    "outputId": "929abdb0-96e0-418c-e8bc-9b6bc49d98de"
   },
   "outputs": [
    {
     "name": "stdout",
     "output_type": "stream",
     "text": [
      "torch.Size([4, 4])\n",
      "torch.Size([16])\n",
      "torch.Size([2, 8])\n",
      "torch.Size([1, 4, 4])\n"
     ]
    }
   ],
   "source": [
    "# tensor를 새로운 shape으로 변환\n",
    "x = torch.randn(4, 4)\n",
    "print( x.size() )\n",
    "\n",
    "y = x.view(16)\n",
    "print( y.size() )\n",
    "\n",
    "z = x.view(-1, 8) # the size -1 is inferred from other dimensions\n",
    "print( z.size() )\n",
    "\n",
    "k = x.view(1, 4, 4)\n",
    "print( k.size() )"
   ]
  },
  {
   "cell_type": "code",
   "execution_count": 10,
   "metadata": {
    "colab": {
     "base_uri": "https://localhost:8080/"
    },
    "id": "0rJ8E9UtmsFf",
    "outputId": "377bdc39-269a-4700-e2c9-707246548e66"
   },
   "outputs": [
    {
     "name": "stdout",
     "output_type": "stream",
     "text": [
      "tensor([[1, 2, 3],\n",
      "        [4, 5, 6]])\n",
      "tensor([[1, 2, 3],\n",
      "        [4, 5, 6],\n",
      "        [1, 2, 3],\n",
      "        [4, 5, 6],\n",
      "        [1, 2, 3],\n",
      "        [4, 5, 6]])\n",
      "tensor([[1, 2, 3, 1, 2, 3, 1, 2, 3],\n",
      "        [4, 5, 6, 4, 5, 6, 4, 5, 6]])\n"
     ]
    }
   ],
   "source": [
    "# tensor 합치기\n",
    "# torch.cat()\n",
    "x = torch.tensor([ [1, 2, 3], [4, 5, 6] ])\n",
    "\n",
    "print(x)\n",
    "print( torch.cat((x, x, x), 0) ) # 0차원 행을 기준으로 붙이기\n",
    "print( torch.cat((x, x, x), 1) ) # 1차원 열을 기준으로 붙이기"
   ]
  },
  {
   "cell_type": "code",
   "execution_count": 11,
   "metadata": {
    "colab": {
     "base_uri": "https://localhost:8080/"
    },
    "id": "sjlQlg-OmsFg",
    "outputId": "04d63e89-f53a-4bbe-a46d-7dd2852eb193",
    "scrolled": true
   },
   "outputs": [
    {
     "name": "stdout",
     "output_type": "stream",
     "text": [
      "tensor([-0.0137,  0.1029, -0.6425])\n",
      "tensor([1., 1., 1.], device='cuda:0') gpu 사용\n",
      "tensor([-0.0137,  0.1029, -0.6425], device='cuda:0') gpu 사용\n",
      "tensor([0.9863, 1.1029, 0.3575], device='cuda:0')\n",
      "tensor([0.9863, 1.1029, 0.3575])\n"
     ]
    }
   ],
   "source": [
    "# Tensor를 생성할 때 GPU에서 생성\n",
    "# 기존 Tensor의 .to() 메서드를 사용하여 GPU로 이동\n",
    "if torch.cuda.is_available():\n",
    "    device = torch.device('cuda')\n",
    "else:\n",
    "    device = torch.device('cpu')\n",
    "\n",
    "x = torch.randn(3)\n",
    "print(x)\n",
    "y = torch.ones_like(x, device=device)\n",
    "print(y, \"gpu 사용\")\n",
    "x = x.to('cuda')\n",
    "print(x, 'gpu 사용')\n",
    "z = x + y\n",
    "print(z)\n",
    "print(z.to('cpu'))\n"
   ]
  },
  {
   "cell_type": "code",
   "execution_count": 12,
   "metadata": {
    "colab": {
     "base_uri": "https://localhost:8080/"
    },
    "id": "cxYwfpbamsFi",
    "outputId": "14135f01-6028-4f1a-968f-3dcc25c3809c"
   },
   "outputs": [
    {
     "name": "stdout",
     "output_type": "stream",
     "text": [
      "tensor([[-2.0097, -0.8478,  0.7941],\n",
      "        [ 1.0749, -2.2760,  0.3730],\n",
      "        [ 0.4209,  0.6295,  0.0968]])\n",
      "tensor(-0.1938)\n",
      "tensor(-1.7443)\n",
      "tensor([2, 0, 1])\n"
     ]
    }
   ],
   "source": [
    "# 평균, 총합, 최대\n",
    "a = torch.randn(3, 3)\n",
    "\n",
    "print(a)\n",
    "print(a.mean())\n",
    "print(a.sum())\n",
    "print(a.argmax(dim=1))"
   ]
  },
  {
   "cell_type": "markdown",
   "metadata": {
    "id": "mq_7KvHsmsFj"
   },
   "source": [
    "# 2. Autograd 패키지\n",
    "\n",
    "---\n"
   ]
  },
  {
   "cell_type": "code",
   "execution_count": 13,
   "metadata": {
    "colab": {
     "base_uri": "https://localhost:8080/"
    },
    "id": "6Vf44aVTmsFk",
    "outputId": "bdf3da08-8482-4a11-a0f7-93de42a70ef9"
   },
   "outputs": [
    {
     "name": "stdout",
     "output_type": "stream",
     "text": [
      "tensor(2., requires_grad=True)\n",
      "tensor(10., grad_fn=<MulBackward0>)\n",
      "grad_fn : tensor가 어떤 연산의 결과로 생성되었을 경우 grad_fn 안에 그 연산이 들어있게 됨\n",
      "tensor(5.)\n"
     ]
    }
   ],
   "source": [
    "# Tensor 기울기 계산\n",
    "x = torch.tensor(2., requires_grad=True)\n",
    "print(x)\n",
    "\n",
    "out = x * 5\n",
    "print(out)\n",
    "print('grad_fn : tensor가 어떤 연산의 결과로 생성되었을 경우 grad_fn 안에 그 연산이 들어있게 됨')\n",
    "\n",
    "out.backward()\n",
    "print(x.grad)\n",
    "# 미분값인 5가 출력됨\n",
    "# 계산 그래프에서 곱의 역전파는 교차이므로"
   ]
  },
  {
   "cell_type": "code",
   "execution_count": 14,
   "metadata": {
    "colab": {
     "base_uri": "https://localhost:8080/"
    },
    "id": "MqQs2bdemsFl",
    "outputId": "1c2e4ab2-2bae-45d0-8fd6-7f026e0b186b"
   },
   "outputs": [
    {
     "name": "stdout",
     "output_type": "stream",
     "text": [
      "tensor([[1., 2.],\n",
      "        [1., 2.]], requires_grad=True)\n",
      "tensor([[ 5., 10.],\n",
      "        [ 5., 10.]], grad_fn=<MulBackward0>)\n",
      "tensor([[5., 5.],\n",
      "        [5., 5.]])\n"
     ]
    }
   ],
   "source": [
    "x = torch.tensor( [[1.,2.],[1.,2.]], requires_grad=True )\n",
    "print(x)\n",
    "\n",
    "out = x * 5\n",
    "print(out)\n",
    "\n",
    "out.backward( torch.ones(2,2) ) # 2x2 사이즈로 만들기 위해 .ones 사용, 이때 괄호 안 사용 안 하면 에러남\n",
    "print(x.grad)"
   ]
  },
  {
   "cell_type": "markdown",
   "metadata": {},
   "source": [
    "with torch.no_grad() -> 기울기 계산이 필요없는 신경망 예측 때 사용"
   ]
  },
  {
   "cell_type": "code",
   "execution_count": 15,
   "metadata": {
    "colab": {
     "base_uri": "https://localhost:8080/"
    },
    "id": "ryBoaZ2XmsFn",
    "outputId": "2d4e3e19-28f8-42cd-e166-6d7fc5a67a4f"
   },
   "outputs": [
    {
     "name": "stdout",
     "output_type": "stream",
     "text": [
      "True\n",
      "True\n",
      "False\n"
     ]
    }
   ],
   "source": [
    "x = torch.ones(2, 2, requires_grad=True)\n",
    "\n",
    "print(x.requires_grad)\n",
    "print((x * 2).requires_grad)\n",
    "\n",
    "# no_grad라 requires_grad가 false 로 나옴\n",
    "with torch.no_grad():\n",
    "    print((x * 2).requires_grad)\n"
   ]
  },
  {
   "cell_type": "markdown",
   "metadata": {},
   "source": [
    "### autograd를 활용한 2층 신경망"
   ]
  },
  {
   "cell_type": "code",
   "execution_count": 62,
   "metadata": {
    "id": "S3X2eTM6msFo"
   },
   "outputs": [],
   "source": [
    "import torch\n",
    "\n",
    "dtype = torch.float\n",
    "# device = torch.device(\"cpu\")\n",
    "device = torch.device(\"cuda:0\") # GPU\n",
    "\n",
    "# N: 배치사이즈; D_in: 입력 사이즈; H: 은닉층 사이즈; D_out: 출력 사이즈\n",
    "N, D_in, H, D_out = 64, 1000, 100, 10\n",
    "\n",
    "# 입력과 출력 위한 랜덤 텐서\n",
    "x = torch.randn(N, D_in).to(device)\n",
    "y = torch.randn(N, D_out).to(device)\n",
    "\n",
    "# 가중치 텐서\n",
    "# 역전파 때 기울기 계산을 위해 가중치 텐서에는 requires_grad=False 추가\n",
    "w1 = torch.randn(D_in, H, requires_grad=True).to(device)\n",
    "w2 = torch.randn(H, D_out, requires_grad=True).to(device)"
   ]
  },
  {
   "cell_type": "code",
   "execution_count": 63,
   "metadata": {
    "colab": {
     "base_uri": "https://localhost:8080/"
    },
    "id": "EP-xzidumsFq",
    "outputId": "c4e15547-68d4-4db6-cca7-f37a7ace4bd4"
   },
   "outputs": [
    {
     "name": "stdout",
     "output_type": "stream",
     "text": [
      "99 707.223876953125\n",
      "199 4.315915107727051\n",
      "299 0.041538551449775696\n",
      "399 0.0007810420356690884\n",
      "499 9.427357144886628e-05\n"
     ]
    }
   ],
   "source": [
    "learning_rate = 1e-6\n",
    "\n",
    "for t in range(500):\n",
    "\n",
    "    # 순전파\n",
    "    # mm(): matrix multiplication - numpy의 dot()과 같음\n",
    "    # clamp(min=0): 0이하의 값을 0으로 만들어 줌 - ReLU와 같음\n",
    "    y_pred = x.mm(w1).clamp(min=0).mm(w2)\n",
    "    \n",
    "    # 손실함수\n",
    "    # MSE를 구현\n",
    "    loss = (y_pred - y).pow(2).sum()\n",
    "    \n",
    "    if t % 100 == 99:\n",
    "        # tensor 에서 단일값을 읽어올 때는 item() 사용\n",
    "        print(t, loss.item())\n",
    "    \n",
    "    # w의 미분 값인 grad 확인시 다음 미분 계산 값은 None이 return 됩니다.\n",
    "    # 이러한 현상을 방지하기 위하여 retain_grad()를 loss.backward() 이전에 호출해 줍니다.\n",
    "    w1.retain_grad()\n",
    "    w2.retain_grad()\n",
    "    \n",
    "    # 역전파 - 기울기 계산\n",
    "    loss.backward()\n",
    "    \n",
    "    # SGD\n",
    "    # 이미 계산된 기울기로 가중치를 업데이트할 것이기 때문에 더이상 autograd 계산 필요 없음\n",
    "    # 그래서 torch.no_grad() 블럭으로 지정\n",
    "    with torch.no_grad():\n",
    "        w1 -= learning_rate * w1.grad\n",
    "        w2 -= learning_rate * w2.grad\n",
    "\n",
    "    # 기울기를 0으로 초기화\n",
    "    w1.grad.zero_()\n",
    "    w2.grad.zero_()"
   ]
  },
  {
   "cell_type": "markdown",
   "metadata": {
    "id": "-l4_2524msFr"
   },
   "source": [
    "# 3. NN Package\n",
    "\n",
    "---"
   ]
  },
  {
   "cell_type": "markdown",
   "metadata": {},
   "source": [
    "##### gpu로 학습시키고 싶으면 tensor도 같은 gpu로 되었는지 확인하기\n",
    "\n",
    "x와 y를 device로 변경시켜줬고, 모델도 to(device)로 했더니 잘 된다"
   ]
  },
  {
   "cell_type": "code",
   "execution_count": 68,
   "metadata": {
    "id": "k4jVUQSgmsFs"
   },
   "outputs": [],
   "source": [
    "# 여러개의 module을 담는 컨테이너 클래스\n",
    "# N: 배치사이즈; D_in: 입력 사이즈; H: 은닉층 사이즈; D_out: 출력 사이즈\n",
    "N, D_in, H, D_out = 64, 1000, 100, 10\n",
    "\n",
    "# 입력과 출력 위한 랜덤 텐서\n",
    "x = torch.randn(N, D_in, device=device)\n",
    "y = torch.randn(N, D_out, device=device)\n",
    "\n",
    "# nn package를 이용하여 여러 층으로 정의된 모델 생성\n",
    "# nn.Sequential은 다른 모듈을 담을 수 있는 모듈이며 담겨진 모듈은 순서대로 연결\n",
    "# Linear 모듈은 곧 Affine 모듈\n",
    "# 3층 신경망\n",
    "model = torch.nn.Sequential(torch.nn.Linear(D_in, H),\n",
    "                            torch.nn.ReLU(),\n",
    "                            torch.nn.Linear(H, H),\n",
    "                            torch.nn.ReLU(),\n",
    "                            torch.nn.Linear(H, D_out),\n",
    "                            ).to(device)\n"
   ]
  },
  {
   "cell_type": "code",
   "execution_count": 69,
   "metadata": {
    "colab": {
     "base_uri": "https://localhost:8080/"
    },
    "id": "Rq9_8ByUmsFt",
    "outputId": "67d1ab1d-c198-498a-fd4f-52735eb6b279"
   },
   "outputs": [
    {
     "name": "stdout",
     "output_type": "stream",
     "text": [
      "99 0.7869958281517029\n",
      "199 0.6603291630744934\n",
      "299 0.5151079893112183\n",
      "399 0.3576714098453522\n",
      "499 0.21998897194862366\n"
     ]
    }
   ],
   "source": [
    "# nn package 에서 제공하는 MSE loss 함수\n",
    "loss_fn = torch.nn.MSELoss()\n",
    "\n",
    "learning_rate = 1e-2\n",
    "\n",
    "for t in range(500):\n",
    "    \n",
    "    # 순전파 - Sequential 안에 있는 모듈 순방향 통과\n",
    "    y_pred = model(x)\n",
    "    \n",
    "    # 손실 계산 - MSE loss\n",
    "    loss = loss_fn(y_pred, y)\n",
    "    \n",
    "    if t % 100 == 99:\n",
    "        print(t, loss.item())\n",
    "    \n",
    "    # 기울기 초기화\n",
    "    model.zero_grad()\n",
    "    \n",
    "    # 역전파\n",
    "    # 모델 안의 모든 학습 가능한 파라미터의 기울기 계산 (내부적으로 requires_grad=True로 되어 있음)\n",
    "    loss.backward()\n",
    "    \n",
    "    # SGD\n",
    "    with torch.no_grad():\n",
    "        # 학습가능한 모든 파라미터에 대해\n",
    "        for param in model.parameters():\n",
    "            param -= learning_rate * param.grad"
   ]
  },
  {
   "cell_type": "markdown",
   "metadata": {},
   "source": [
    "#### optime package: 다양한 최적화 알고리즘 제공"
   ]
  },
  {
   "cell_type": "code",
   "execution_count": 71,
   "metadata": {
    "colab": {
     "base_uri": "https://localhost:8080/"
    },
    "id": "ZxQW8jtmmsFu",
    "outputId": "1857740f-db78-4eef-a203-1923ce2e5176"
   },
   "outputs": [
    {
     "name": "stdout",
     "output_type": "stream",
     "text": [
      "99 0.0003501845640130341\n",
      "199 7.373793575737864e-09\n",
      "299 2.6318484609537396e-13\n",
      "399 9.686402816454741e-15\n",
      "499 6.8747408990316086e-15\n"
     ]
    }
   ],
   "source": [
    "# optim package\n",
    "learning_rate = 1e-4\n",
    "\n",
    "# Adam optimizer 사용\n",
    "optimizer = torch.optim.Adam(model.parameters(), lr=learning_rate)\n",
    "\n",
    "for t in range(500):\n",
    "\n",
    "    # 순전파 - Sequential 안에 있는 모듈 순방향 통과\n",
    "    y_pred = model(x)\n",
    "\n",
    "    # 손실 계산 - MSE loss\n",
    "    loss = loss_fn(y_pred, y)\n",
    "    \n",
    "    if t % 100 == 99:\n",
    "        print(t, loss.item())\n",
    "    \n",
    "    # 기울기 초기화\n",
    "    model.zero_grad()\n",
    "    \n",
    "    # 역전파\n",
    "    # 모델 안의 모든 학습 가능한 파라미터의 기울기 계산 (내부적으로 requires_grad=True로 되어 있음)\n",
    "    loss.backward()\n",
    "    \n",
    "    # Adam\n",
    "    optimizer.step()"
   ]
  },
  {
   "cell_type": "markdown",
   "metadata": {},
   "source": [
    "#### Custom nn Modules"
   ]
  },
  {
   "cell_type": "code",
   "execution_count": 72,
   "metadata": {
    "id": "ZtdkI3mdmsFy"
   },
   "outputs": [],
   "source": [
    "# 보다 복잡한 구조의 모델 구성 적합\n",
    "\n",
    "# 2층 신경망\n",
    "# torch.nn.Module을 상속받아 TwoLayerNet 클래스 정의\n",
    "class TwoLayerNet(torch.nn.Module):\n",
    "    def __init__(self, D_in, H, D_out):\n",
    "        super().__init__()\n",
    "        # FC(Fully connected) layer 2개 초기화\n",
    "        self.fc1 = torch.nn.Linear(D_in, H)\n",
    "        self.fc2 = torch.nn.Linear(H, D_out)\n",
    "        \n",
    "    def forward(self, x):\n",
    "        # 순전파: fc1 -> relu -> fc2 ->\n",
    "        x = torch.nn.functional.relu( self.fc1(x) )\n",
    "        return self.fc2(x)"
   ]
  },
  {
   "cell_type": "code",
   "execution_count": 73,
   "metadata": {
    "colab": {
     "base_uri": "https://localhost:8080/"
    },
    "id": "QpQUz9RDmsF0",
    "outputId": "3f03cd60-d4df-4781-aca2-80e437f65e93"
   },
   "outputs": [
    {
     "name": "stdout",
     "output_type": "stream",
     "text": [
      "99 0.4407981336116791\n",
      "199 0.16872604191303253\n",
      "299 0.05944230407476425\n",
      "399 0.021671947091817856\n",
      "499 0.008559996262192726\n",
      "599 0.0036300544161349535\n",
      "699 0.0016272393986582756\n",
      "799 0.000760897877626121\n",
      "899 0.0003680773952510208\n",
      "999 0.00018429808551445603\n",
      "1099 9.561075421515852e-05\n",
      "1199 5.1216989959357306e-05\n",
      "1299 2.830201992765069e-05\n",
      "1399 1.6113513993332162e-05\n",
      "1499 9.43658142205095e-06\n"
     ]
    }
   ],
   "source": [
    "# N: 배치사이즈; D_in: 입력 사이즈; H: 은닉층 사이즈; D_out: 출력 사이즈\n",
    "N, D_in, H, D_out = 64, 1000, 100, 10\n",
    "\n",
    "# 입력과 출력 위한 랜덤 텐서\n",
    "x = torch.randn(N, D_in)\n",
    "y = torch.randn(N, D_out)\n",
    "\n",
    "# TwoLayerNet 생성\n",
    "model = TwoLayerNet(D_in, H, D_out)\n",
    "\n",
    "# 손실함수: MSE\n",
    "# Optimizer: SGD\n",
    "# model.parameters(): 학습 가능한 파라미터들 (가중치)\n",
    "loss_fn = torch.nn.MSELoss()\n",
    "optimizer = torch.optim.SGD(model.parameters(), lr=1e-2)\n",
    "\n",
    "for t in range(1500):\n",
    "    # 순전파\n",
    "    y_pred = model(x)\n",
    "\n",
    "    # 손실 계산 - MSE loss\n",
    "    loss = loss_fn(y_pred, y)\n",
    "    if t % 100 == 99:\n",
    "        print(t, loss.item())\n",
    "\n",
    "    # 기울기 초기화\n",
    "    optimizer.zero_grad()\n",
    "    # 역전파 - 기울기 계산\n",
    "    loss.backward()\n",
    "    # SGD - 가중치 업데이트\n",
    "    optimizer.step()"
   ]
  },
  {
   "cell_type": "markdown",
   "metadata": {
    "id": "cUHL19EDmsF2"
   },
   "source": [
    "## MNIST\n",
    "\n",
    "---"
   ]
  },
  {
   "cell_type": "code",
   "execution_count": 76,
   "metadata": {
    "id": "l8L21MbbmsF2"
   },
   "outputs": [],
   "source": [
    "# 6.21\n",
    "\n",
    "import torch\n",
    "import torch.nn as nn\n",
    "import torch.nn.functional as F\n",
    "import torch.optim as optim\n",
    "\n",
    "from torchvision import datasets, transforms\n",
    "\n",
    "import matplotlib.pyplot as plt\n",
    "%matplotlib inline"
   ]
  },
  {
   "cell_type": "code",
   "execution_count": 77,
   "metadata": {
    "id": "DoekbISGmsF3"
   },
   "outputs": [],
   "source": [
    "# gpu 사용할 수 있는지 여부\n",
    "\n",
    "if torch.cuda.is_available():\n",
    "    device = torch.device('cuda')          \n",
    "else:\n",
    "    device = torch.device('cpu')\n"
   ]
  },
  {
   "cell_type": "code",
   "execution_count": 79,
   "metadata": {
    "colab": {
     "base_uri": "https://localhost:8080/",
     "height": 439,
     "referenced_widgets": [
      "5d290c2489a447c692dd6c68d0834aa8",
      "97b3927baf5a4f93ba513adcb26b27a8",
      "3cdae87aa2204f78acccd46049fb9305",
      "b287e188f78244d09c9f345b6ba88c55",
      "0f3d5df40f2d4fdbaef51d4110d1915e",
      "a352a07359c84768b5875f862a3873ea",
      "59cde0a7e9dd4325aa0375901bffe2a6",
      "7053e8fc583a4b1c86a8631f41db7145",
      "88c10a8d31554f37939cece31cb5e014",
      "4c3a5df6a63748d28497e9ba3cdb8457",
      "ba0f37c28fd640d591dcb354e05d9f73",
      "f6dd2a998d9148d19c6729dfd562febd",
      "c4eaf51932d443249679320dc88890a0",
      "e73da9b6591647368b30606e4690fc48",
      "e6514bc4c4364c6d959ae650fccb9caa",
      "b595da92d1314fe8bfb77c5c9ecbe459",
      "f7ef592be11245ba91276750e9a562f3",
      "cda99bbf074c47d48fba13c43f8c9789",
      "171ae9996ce749e7960b6f79c180734d",
      "7068a4fd14e44ab29559ebe5f6862de2",
      "e16042907b634fa59270448e70a78e40",
      "f336934b799c4caaa5ce9811402153a2",
      "e98e24c184ee4985a222e1e373f02674",
      "8d0178296d6142b6981eab6a40296ea9",
      "023eae109c1244368601e977b71b9000",
      "3a5f7d95152040be9a100031f18f2b22",
      "17876826b47d4df7b20e77f8802642b9",
      "69837235b6724661bead957a454ed6c2",
      "30f7d691c8b64c9ea43839c21b162ae9",
      "9f972e398b634eebb234ff1779240e79",
      "e297d05d87e946439d950ebe850f0251",
      "d8e6ff2a7b774d3f83b2b82298b90468",
      "0f5315d67d2748f88f568129997015e5",
      "4dea87b645aa4b2287ff208285197765",
      "e1610c678ebf44929d1acb73706ca0c9",
      "0f4b7bc46002417fa5dd981f55d223e4",
      "a72df48abc984ebdb3ec45092a810eb6",
      "c90795debffc4697ab9740d0ed526331",
      "42814772997447c78ac45dff47184d5a",
      "ec03060702a8415aa79c72de8a1a44b2",
      "2465799fc85747de80ee8c81c117f8a4",
      "65dc16e58e2f4930bce4c4aa2c4a446d",
      "281af6d2501a475385d10978e60ec63e",
      "a5cc9837ed974775bb5837c8bccb32dc"
     ]
    },
    "id": "oB60K5dAmsF5",
    "outputId": "cdcbbfb0-cf9f-495f-ce84-f23492727368"
   },
   "outputs": [],
   "source": [
    "# 6.23\n",
    "\n",
    "# MNIST 데이타셋 다운로드\n",
    "mnist_train = datasets.MNIST(root='data/',\n",
    "                          train=True,\n",
    "                          transform=transforms.Compose(\n",
    "                              [transforms.ToTensor(), \n",
    "                               transforms.Normalize((0.1307,), (0.3081,))]),\n",
    "                          download=True)\n",
    "\n",
    "mnist_test = datasets.MNIST(root='data/',\n",
    "                         train=False,\n",
    "                          transform=transforms.Compose(\n",
    "                              [transforms.ToTensor(), \n",
    "                               transforms.Normalize((0.1307,), (0.3081,))]),\n",
    "                         download=True)"
   ]
  },
  {
   "cell_type": "code",
   "execution_count": 80,
   "metadata": {
    "colab": {
     "base_uri": "https://localhost:8080/"
    },
    "id": "73cH6ESymsF6",
    "outputId": "a8a25b99-aeec-4d4d-ddc7-b64ab10e3f11"
   },
   "outputs": [
    {
     "name": "stdout",
     "output_type": "stream",
     "text": [
      "torch.Size([60000, 28, 28])\n",
      "torch.Size([10000, 28, 28])\n"
     ]
    }
   ],
   "source": [
    "print( mnist_train.data.size() )\n",
    "print( mnist_test.data.size() )"
   ]
  },
  {
   "cell_type": "code",
   "execution_count": 82,
   "metadata": {
    "id": "Dmc6g-uhmsF8"
   },
   "outputs": [],
   "source": [
    "batch_size = 100\n",
    "\n",
    "# DataLoader - 데이터셋에서 편하게 미니배치 가져올 수 있게 함\n",
    "train_loader  = torch.utils.data.DataLoader( dataset=mnist_train,\n",
    "                                     batch_size=batch_size,\n",
    "                                     shuffle=True,\n",
    "                                     num_workers=0 )\n",
    "\n",
    "test_loader  = torch.utils.data.DataLoader( dataset=mnist_test,\n",
    "                                     batch_size=batch_size,\n",
    "                                     shuffle=False,\n",
    "                                     num_workers=0 )"
   ]
  },
  {
   "cell_type": "code",
   "execution_count": 83,
   "metadata": {
    "id": "9lRxKGa6msF-"
   },
   "outputs": [],
   "source": [
    "class TwoLayerNet(torch.nn.Module):\n",
    "    def __init__(self, D_in, H, D_out):\n",
    "        super().__init__()\n",
    "        self.fc1 = torch.nn.Linear(D_in, H)\n",
    "        self.fc2 = torch.nn.Linear(H, D_out)\n",
    "\n",
    "    def forward(self, x):\n",
    "        x = F.relu( self.fc1(x) )\n",
    "        return self.fc2(x)"
   ]
  },
  {
   "cell_type": "code",
   "execution_count": 88,
   "metadata": {
    "id": "oO71zF3FmsGA"
   },
   "outputs": [],
   "source": [
    "model = TwoLayerNet(784, 100, 10)\n",
    "# gpu 설정\n",
    "model.to(device)\n",
    "\n",
    "# 크로스엔트로피를 loss function으로\n",
    "# sgd를 optimizer로\n",
    "loss_func = nn.CrossEntropyLoss()\n",
    "optimizer = optim.SGD(model.parameters(), lr=0.001)"
   ]
  },
  {
   "cell_type": "code",
   "execution_count": 85,
   "metadata": {
    "id": "aVobSVSCmsGC"
   },
   "outputs": [],
   "source": [
    "# 훈련 함수\n",
    "def train(epoch):\n",
    "\n",
    "    model.train() # 훈련 모드\n",
    "\n",
    "    # train_loader에서 배치 단위로 훈련, 정답 가져오면서 반복\n",
    "    for i, (data, target) in enumerate(train_loader):\n",
    "        # device로 데이터 전송\n",
    "        data, target = data.to(device), target.to(device)\n",
    "\n",
    "        # 입력 사이즈가 728이므로 하나의 데이터 당 (28, 28)을 (728,)로 reshape\n",
    "        data = data.view(-1, 28 * 28)\n",
    "\n",
    "        # 순전파\n",
    "        output = model( data )\n",
    "\n",
    "        # 손실함수\n",
    "        cost = loss_func( output, target )\n",
    "\n",
    "        # 기울기 초기화 > 역전파 > 가중치 업데이트\n",
    "        optimizer.zero_grad()\n",
    "        cost.backward()\n",
    "        optimizer.step()\n",
    "\n",
    "        if i % 100 == 99:\n",
    "            print('Train epoch: {} [{}/{}] Loss: {}'.format(\n",
    "                epoch, (i+1) * len(data), len(train_loader.dataset), cost.item()) )"
   ]
  },
  {
   "cell_type": "code",
   "execution_count": 86,
   "metadata": {
    "id": "Ysd2c4DDmsGD"
   },
   "outputs": [],
   "source": [
    "# 평가 함수\n",
    "def test():\n",
    "    model.eval() # 평가 모드\n",
    "\n",
    "    correct = 0 # 맞춘 갯수 초기화\n",
    "    \n",
    "    # 기울기 사용하지 않는 부분\n",
    "    with torch.no_grad():\n",
    "        for data, target in test_loader:\n",
    "            # device로 데이터 전송\n",
    "            data, target = data.to(device), target.to(device)\n",
    "\n",
    "            # 입력 사이즈가 728이므로 하나의 데이터 당 (28, 28)을 (728,)로 reshape\n",
    "            data = data.view(-1, 28 * 28)\n",
    "\n",
    "            # 순전파\n",
    "            output = model( data )\n",
    "\n",
    "            # 최고 값 인덱스\n",
    "            output = torch.argmax(output, 1)\n",
    "            \n",
    "            # 정답과 맞은 횟수 correct에 누적\n",
    "            correct += (output == target).sum().item()\n",
    "\n",
    "    acc = 100 * float(correct) / len(test_loader.dataset) \n",
    "    print( 'Test accuracy: {}/{} ({}%)'.format( correct, len(test_loader.dataset), acc ) )  "
   ]
  },
  {
   "cell_type": "code",
   "execution_count": 89,
   "metadata": {
    "colab": {
     "base_uri": "https://localhost:8080/"
    },
    "id": "bfWm1yVfmsGF",
    "outputId": "b5c983d9-834f-4621-e280-bebd3ffa8690",
    "scrolled": true
   },
   "outputs": [
    {
     "name": "stdout",
     "output_type": "stream",
     "text": [
      "Train epoch: 1 [10000/60000] Loss: 2.1939334869384766\n",
      "Train epoch: 1 [20000/60000] Loss: 2.0592868328094482\n",
      "Train epoch: 1 [30000/60000] Loss: 1.9057742357254028\n",
      "Train epoch: 1 [40000/60000] Loss: 1.7800449132919312\n",
      "Train epoch: 1 [50000/60000] Loss: 1.6459760665893555\n",
      "Train epoch: 1 [60000/60000] Loss: 1.5457658767700195\n",
      "Test accuracy: 7513/10000 (75.13%)\n",
      "Train epoch: 2 [10000/60000] Loss: 1.2998744249343872\n",
      "Train epoch: 2 [20000/60000] Loss: 1.2610658407211304\n",
      "Train epoch: 2 [30000/60000] Loss: 1.1641279458999634\n",
      "Train epoch: 2 [40000/60000] Loss: 1.0673118829727173\n",
      "Train epoch: 2 [50000/60000] Loss: 0.9196450710296631\n",
      "Train epoch: 2 [60000/60000] Loss: 0.9864784479141235\n",
      "Test accuracy: 8235/10000 (82.35%)\n",
      "Train epoch: 3 [10000/60000] Loss: 1.031297206878662\n",
      "Train epoch: 3 [20000/60000] Loss: 0.7700332403182983\n",
      "Train epoch: 3 [30000/60000] Loss: 0.8998186588287354\n",
      "Train epoch: 3 [40000/60000] Loss: 0.8019397854804993\n",
      "Train epoch: 3 [50000/60000] Loss: 0.6305915713310242\n",
      "Train epoch: 3 [60000/60000] Loss: 0.5771156549453735\n",
      "Test accuracy: 8532/10000 (85.32%)\n",
      "Train epoch: 4 [10000/60000] Loss: 0.6145052909851074\n",
      "Train epoch: 4 [20000/60000] Loss: 0.748616099357605\n",
      "Train epoch: 4 [30000/60000] Loss: 0.6329067945480347\n",
      "Train epoch: 4 [40000/60000] Loss: 0.6332885026931763\n",
      "Train epoch: 4 [50000/60000] Loss: 0.6835918426513672\n",
      "Train epoch: 4 [60000/60000] Loss: 0.6125490665435791\n",
      "Test accuracy: 8669/10000 (86.69%)\n",
      "Train epoch: 5 [10000/60000] Loss: 0.41462889313697815\n",
      "Train epoch: 5 [20000/60000] Loss: 0.4645996391773224\n",
      "Train epoch: 5 [30000/60000] Loss: 0.5689179301261902\n",
      "Train epoch: 5 [40000/60000] Loss: 0.400473952293396\n",
      "Train epoch: 5 [50000/60000] Loss: 0.5063295960426331\n",
      "Train epoch: 5 [60000/60000] Loss: 0.4859450161457062\n",
      "Test accuracy: 8777/10000 (87.77%)\n",
      "Train epoch: 6 [10000/60000] Loss: 0.41762733459472656\n",
      "Train epoch: 6 [20000/60000] Loss: 0.46403971314430237\n",
      "Train epoch: 6 [30000/60000] Loss: 0.5081933736801147\n",
      "Train epoch: 6 [40000/60000] Loss: 0.5827957391738892\n",
      "Train epoch: 6 [50000/60000] Loss: 0.5101174116134644\n",
      "Train epoch: 6 [60000/60000] Loss: 0.46282342076301575\n",
      "Test accuracy: 8851/10000 (88.51%)\n",
      "Train epoch: 7 [10000/60000] Loss: 0.5796827077865601\n",
      "Train epoch: 7 [20000/60000] Loss: 0.41540801525115967\n",
      "Train epoch: 7 [30000/60000] Loss: 0.5104750990867615\n",
      "Train epoch: 7 [40000/60000] Loss: 0.342372864484787\n",
      "Train epoch: 7 [50000/60000] Loss: 0.40758469700813293\n",
      "Train epoch: 7 [60000/60000] Loss: 0.24366344511508942\n",
      "Test accuracy: 8893/10000 (88.93%)\n",
      "Train epoch: 8 [10000/60000] Loss: 0.35213446617126465\n",
      "Train epoch: 8 [20000/60000] Loss: 0.4271751344203949\n",
      "Train epoch: 8 [30000/60000] Loss: 0.4190595746040344\n",
      "Train epoch: 8 [40000/60000] Loss: 0.424581915140152\n",
      "Train epoch: 8 [50000/60000] Loss: 0.3145989179611206\n",
      "Train epoch: 8 [60000/60000] Loss: 0.40041306614875793\n",
      "Test accuracy: 8942/10000 (89.42%)\n",
      "Train epoch: 9 [10000/60000] Loss: 0.5717884302139282\n",
      "Train epoch: 9 [20000/60000] Loss: 0.3989919424057007\n",
      "Train epoch: 9 [30000/60000] Loss: 0.34486910700798035\n",
      "Train epoch: 9 [40000/60000] Loss: 0.35533303022384644\n",
      "Train epoch: 9 [50000/60000] Loss: 0.3812379539012909\n",
      "Train epoch: 9 [60000/60000] Loss: 0.5324721932411194\n",
      "Test accuracy: 8982/10000 (89.82%)\n",
      "Train epoch: 10 [10000/60000] Loss: 0.28134921193122864\n",
      "Train epoch: 10 [20000/60000] Loss: 0.39076679944992065\n",
      "Train epoch: 10 [30000/60000] Loss: 0.4201231896877289\n",
      "Train epoch: 10 [40000/60000] Loss: 0.3531360626220703\n",
      "Train epoch: 10 [50000/60000] Loss: 0.4192133843898773\n",
      "Train epoch: 10 [60000/60000] Loss: 0.4590480923652649\n",
      "Test accuracy: 8991/10000 (89.91%)\n",
      "Train epoch: 11 [10000/60000] Loss: 0.532768189907074\n",
      "Train epoch: 11 [20000/60000] Loss: 0.25950536131858826\n",
      "Train epoch: 11 [30000/60000] Loss: 0.3301334083080292\n",
      "Train epoch: 11 [40000/60000] Loss: 0.45246586203575134\n",
      "Train epoch: 11 [50000/60000] Loss: 0.29929235577583313\n",
      "Train epoch: 11 [60000/60000] Loss: 0.4811840057373047\n",
      "Test accuracy: 9019/10000 (90.19%)\n",
      "Train epoch: 12 [10000/60000] Loss: 0.3456818461418152\n",
      "Train epoch: 12 [20000/60000] Loss: 0.3064274489879608\n",
      "Train epoch: 12 [30000/60000] Loss: 0.31149718165397644\n",
      "Train epoch: 12 [40000/60000] Loss: 0.4091610014438629\n",
      "Train epoch: 12 [50000/60000] Loss: 0.3980593979358673\n",
      "Train epoch: 12 [60000/60000] Loss: 0.31771042943000793\n",
      "Test accuracy: 9038/10000 (90.38%)\n",
      "Train epoch: 13 [10000/60000] Loss: 0.308245986700058\n",
      "Train epoch: 13 [20000/60000] Loss: 0.2550359070301056\n",
      "Train epoch: 13 [30000/60000] Loss: 0.48623770475387573\n",
      "Train epoch: 13 [40000/60000] Loss: 0.3202807605266571\n",
      "Train epoch: 13 [50000/60000] Loss: 0.3239363729953766\n",
      "Train epoch: 13 [60000/60000] Loss: 0.4321323037147522\n",
      "Test accuracy: 9054/10000 (90.54%)\n",
      "Train epoch: 14 [10000/60000] Loss: 0.3433069586753845\n",
      "Train epoch: 14 [20000/60000] Loss: 0.43786370754241943\n",
      "Train epoch: 14 [30000/60000] Loss: 0.39542821049690247\n",
      "Train epoch: 14 [40000/60000] Loss: 0.3644137978553772\n",
      "Train epoch: 14 [50000/60000] Loss: 0.32068103551864624\n",
      "Train epoch: 14 [60000/60000] Loss: 0.35840025544166565\n",
      "Test accuracy: 9070/10000 (90.7%)\n",
      "Train epoch: 15 [10000/60000] Loss: 0.32955023646354675\n",
      "Train epoch: 15 [20000/60000] Loss: 0.3360787630081177\n",
      "Train epoch: 15 [30000/60000] Loss: 0.320058673620224\n",
      "Train epoch: 15 [40000/60000] Loss: 0.4425188899040222\n",
      "Train epoch: 15 [50000/60000] Loss: 0.22523309290409088\n",
      "Train epoch: 15 [60000/60000] Loss: 0.26967257261276245\n",
      "Test accuracy: 9084/10000 (90.84%)\n",
      "Train epoch: 16 [10000/60000] Loss: 0.44846466183662415\n",
      "Train epoch: 16 [20000/60000] Loss: 0.407713919878006\n",
      "Train epoch: 16 [30000/60000] Loss: 0.26509425044059753\n",
      "Train epoch: 16 [40000/60000] Loss: 0.2977674603462219\n",
      "Train epoch: 16 [50000/60000] Loss: 0.329360693693161\n",
      "Train epoch: 16 [60000/60000] Loss: 0.38626495003700256\n",
      "Test accuracy: 9103/10000 (91.03%)\n",
      "Train epoch: 17 [10000/60000] Loss: 0.3693442642688751\n",
      "Train epoch: 17 [20000/60000] Loss: 0.18049578368663788\n",
      "Train epoch: 17 [30000/60000] Loss: 0.3518179953098297\n",
      "Train epoch: 17 [40000/60000] Loss: 0.41659244894981384\n",
      "Train epoch: 17 [50000/60000] Loss: 0.4705996811389923\n",
      "Train epoch: 17 [60000/60000] Loss: 0.3113940954208374\n",
      "Test accuracy: 9122/10000 (91.22%)\n",
      "Train epoch: 18 [10000/60000] Loss: 0.3312237560749054\n",
      "Train epoch: 18 [20000/60000] Loss: 0.417725145816803\n",
      "Train epoch: 18 [30000/60000] Loss: 0.37482619285583496\n",
      "Train epoch: 18 [40000/60000] Loss: 0.5127735733985901\n",
      "Train epoch: 18 [50000/60000] Loss: 0.2008412480354309\n",
      "Train epoch: 18 [60000/60000] Loss: 0.3151760995388031\n",
      "Test accuracy: 9131/10000 (91.31%)\n",
      "Train epoch: 19 [10000/60000] Loss: 0.24045820534229279\n",
      "Train epoch: 19 [20000/60000] Loss: 0.3657691180706024\n",
      "Train epoch: 19 [30000/60000] Loss: 0.37902557849884033\n",
      "Train epoch: 19 [40000/60000] Loss: 0.2982637286186218\n",
      "Train epoch: 19 [50000/60000] Loss: 0.24590334296226501\n",
      "Train epoch: 19 [60000/60000] Loss: 0.2518722414970398\n",
      "Test accuracy: 9134/10000 (91.34%)\n",
      "Train epoch: 20 [10000/60000] Loss: 0.364319384098053\n",
      "Train epoch: 20 [20000/60000] Loss: 0.20680665969848633\n",
      "Train epoch: 20 [30000/60000] Loss: 0.32022106647491455\n",
      "Train epoch: 20 [40000/60000] Loss: 0.2058504819869995\n",
      "Train epoch: 20 [50000/60000] Loss: 0.3533860445022583\n",
      "Train epoch: 20 [60000/60000] Loss: 0.4147351384162903\n",
      "Test accuracy: 9148/10000 (91.48%)\n"
     ]
    }
   ],
   "source": [
    "num_epochs = 20\n",
    "\n",
    "for epoch in range(num_epochs):\n",
    "    train(epoch+1)\n",
    "    test()"
   ]
  },
  {
   "cell_type": "code",
   "execution_count": null,
   "metadata": {
    "id": "tcunhhzCmsGH"
   },
   "outputs": [],
   "source": []
  }
 ],
 "metadata": {
  "accelerator": "GPU",
  "colab": {
   "collapsed_sections": [],
   "provenance": []
  },
  "gpuClass": "standard",
  "kernelspec": {
   "display_name": "Python 3 (ipykernel)",
   "language": "python",
   "name": "python3"
  },
  "language_info": {
   "codemirror_mode": {
    "name": "ipython",
    "version": 3
   },
   "file_extension": ".py",
   "mimetype": "text/x-python",
   "name": "python",
   "nbconvert_exporter": "python",
   "pygments_lexer": "ipython3",
   "version": "3.9.13"
  },
  "widgets": {
   "application/vnd.jupyter.widget-state+json": {
    "023eae109c1244368601e977b71b9000": {
     "model_module": "@jupyter-widgets/controls",
     "model_module_version": "1.5.0",
     "model_name": "FloatProgressModel",
     "state": {
      "_dom_classes": [],
      "_model_module": "@jupyter-widgets/controls",
      "_model_module_version": "1.5.0",
      "_model_name": "FloatProgressModel",
      "_view_count": null,
      "_view_module": "@jupyter-widgets/controls",
      "_view_module_version": "1.5.0",
      "_view_name": "ProgressView",
      "bar_style": "success",
      "description": "",
      "description_tooltip": null,
      "layout": "IPY_MODEL_9f972e398b634eebb234ff1779240e79",
      "max": 1648877,
      "min": 0,
      "orientation": "horizontal",
      "style": "IPY_MODEL_e297d05d87e946439d950ebe850f0251",
      "value": 1648877
     }
    },
    "0f3d5df40f2d4fdbaef51d4110d1915e": {
     "model_module": "@jupyter-widgets/base",
     "model_module_version": "1.2.0",
     "model_name": "LayoutModel",
     "state": {
      "_model_module": "@jupyter-widgets/base",
      "_model_module_version": "1.2.0",
      "_model_name": "LayoutModel",
      "_view_count": null,
      "_view_module": "@jupyter-widgets/base",
      "_view_module_version": "1.2.0",
      "_view_name": "LayoutView",
      "align_content": null,
      "align_items": null,
      "align_self": null,
      "border": null,
      "bottom": null,
      "display": null,
      "flex": null,
      "flex_flow": null,
      "grid_area": null,
      "grid_auto_columns": null,
      "grid_auto_flow": null,
      "grid_auto_rows": null,
      "grid_column": null,
      "grid_gap": null,
      "grid_row": null,
      "grid_template_areas": null,
      "grid_template_columns": null,
      "grid_template_rows": null,
      "height": null,
      "justify_content": null,
      "justify_items": null,
      "left": null,
      "margin": null,
      "max_height": null,
      "max_width": null,
      "min_height": null,
      "min_width": null,
      "object_fit": null,
      "object_position": null,
      "order": null,
      "overflow": null,
      "overflow_x": null,
      "overflow_y": null,
      "padding": null,
      "right": null,
      "top": null,
      "visibility": null,
      "width": null
     }
    },
    "0f4b7bc46002417fa5dd981f55d223e4": {
     "model_module": "@jupyter-widgets/controls",
     "model_module_version": "1.5.0",
     "model_name": "FloatProgressModel",
     "state": {
      "_dom_classes": [],
      "_model_module": "@jupyter-widgets/controls",
      "_model_module_version": "1.5.0",
      "_model_name": "FloatProgressModel",
      "_view_count": null,
      "_view_module": "@jupyter-widgets/controls",
      "_view_module_version": "1.5.0",
      "_view_name": "ProgressView",
      "bar_style": "success",
      "description": "",
      "description_tooltip": null,
      "layout": "IPY_MODEL_2465799fc85747de80ee8c81c117f8a4",
      "max": 4542,
      "min": 0,
      "orientation": "horizontal",
      "style": "IPY_MODEL_65dc16e58e2f4930bce4c4aa2c4a446d",
      "value": 4542
     }
    },
    "0f5315d67d2748f88f568129997015e5": {
     "model_module": "@jupyter-widgets/controls",
     "model_module_version": "1.5.0",
     "model_name": "DescriptionStyleModel",
     "state": {
      "_model_module": "@jupyter-widgets/controls",
      "_model_module_version": "1.5.0",
      "_model_name": "DescriptionStyleModel",
      "_view_count": null,
      "_view_module": "@jupyter-widgets/base",
      "_view_module_version": "1.2.0",
      "_view_name": "StyleView",
      "description_width": ""
     }
    },
    "171ae9996ce749e7960b6f79c180734d": {
     "model_module": "@jupyter-widgets/base",
     "model_module_version": "1.2.0",
     "model_name": "LayoutModel",
     "state": {
      "_model_module": "@jupyter-widgets/base",
      "_model_module_version": "1.2.0",
      "_model_name": "LayoutModel",
      "_view_count": null,
      "_view_module": "@jupyter-widgets/base",
      "_view_module_version": "1.2.0",
      "_view_name": "LayoutView",
      "align_content": null,
      "align_items": null,
      "align_self": null,
      "border": null,
      "bottom": null,
      "display": null,
      "flex": null,
      "flex_flow": null,
      "grid_area": null,
      "grid_auto_columns": null,
      "grid_auto_flow": null,
      "grid_auto_rows": null,
      "grid_column": null,
      "grid_gap": null,
      "grid_row": null,
      "grid_template_areas": null,
      "grid_template_columns": null,
      "grid_template_rows": null,
      "height": null,
      "justify_content": null,
      "justify_items": null,
      "left": null,
      "margin": null,
      "max_height": null,
      "max_width": null,
      "min_height": null,
      "min_width": null,
      "object_fit": null,
      "object_position": null,
      "order": null,
      "overflow": null,
      "overflow_x": null,
      "overflow_y": null,
      "padding": null,
      "right": null,
      "top": null,
      "visibility": null,
      "width": null
     }
    },
    "17876826b47d4df7b20e77f8802642b9": {
     "model_module": "@jupyter-widgets/base",
     "model_module_version": "1.2.0",
     "model_name": "LayoutModel",
     "state": {
      "_model_module": "@jupyter-widgets/base",
      "_model_module_version": "1.2.0",
      "_model_name": "LayoutModel",
      "_view_count": null,
      "_view_module": "@jupyter-widgets/base",
      "_view_module_version": "1.2.0",
      "_view_name": "LayoutView",
      "align_content": null,
      "align_items": null,
      "align_self": null,
      "border": null,
      "bottom": null,
      "display": null,
      "flex": null,
      "flex_flow": null,
      "grid_area": null,
      "grid_auto_columns": null,
      "grid_auto_flow": null,
      "grid_auto_rows": null,
      "grid_column": null,
      "grid_gap": null,
      "grid_row": null,
      "grid_template_areas": null,
      "grid_template_columns": null,
      "grid_template_rows": null,
      "height": null,
      "justify_content": null,
      "justify_items": null,
      "left": null,
      "margin": null,
      "max_height": null,
      "max_width": null,
      "min_height": null,
      "min_width": null,
      "object_fit": null,
      "object_position": null,
      "order": null,
      "overflow": null,
      "overflow_x": null,
      "overflow_y": null,
      "padding": null,
      "right": null,
      "top": null,
      "visibility": null,
      "width": null
     }
    },
    "2465799fc85747de80ee8c81c117f8a4": {
     "model_module": "@jupyter-widgets/base",
     "model_module_version": "1.2.0",
     "model_name": "LayoutModel",
     "state": {
      "_model_module": "@jupyter-widgets/base",
      "_model_module_version": "1.2.0",
      "_model_name": "LayoutModel",
      "_view_count": null,
      "_view_module": "@jupyter-widgets/base",
      "_view_module_version": "1.2.0",
      "_view_name": "LayoutView",
      "align_content": null,
      "align_items": null,
      "align_self": null,
      "border": null,
      "bottom": null,
      "display": null,
      "flex": null,
      "flex_flow": null,
      "grid_area": null,
      "grid_auto_columns": null,
      "grid_auto_flow": null,
      "grid_auto_rows": null,
      "grid_column": null,
      "grid_gap": null,
      "grid_row": null,
      "grid_template_areas": null,
      "grid_template_columns": null,
      "grid_template_rows": null,
      "height": null,
      "justify_content": null,
      "justify_items": null,
      "left": null,
      "margin": null,
      "max_height": null,
      "max_width": null,
      "min_height": null,
      "min_width": null,
      "object_fit": null,
      "object_position": null,
      "order": null,
      "overflow": null,
      "overflow_x": null,
      "overflow_y": null,
      "padding": null,
      "right": null,
      "top": null,
      "visibility": null,
      "width": null
     }
    },
    "281af6d2501a475385d10978e60ec63e": {
     "model_module": "@jupyter-widgets/base",
     "model_module_version": "1.2.0",
     "model_name": "LayoutModel",
     "state": {
      "_model_module": "@jupyter-widgets/base",
      "_model_module_version": "1.2.0",
      "_model_name": "LayoutModel",
      "_view_count": null,
      "_view_module": "@jupyter-widgets/base",
      "_view_module_version": "1.2.0",
      "_view_name": "LayoutView",
      "align_content": null,
      "align_items": null,
      "align_self": null,
      "border": null,
      "bottom": null,
      "display": null,
      "flex": null,
      "flex_flow": null,
      "grid_area": null,
      "grid_auto_columns": null,
      "grid_auto_flow": null,
      "grid_auto_rows": null,
      "grid_column": null,
      "grid_gap": null,
      "grid_row": null,
      "grid_template_areas": null,
      "grid_template_columns": null,
      "grid_template_rows": null,
      "height": null,
      "justify_content": null,
      "justify_items": null,
      "left": null,
      "margin": null,
      "max_height": null,
      "max_width": null,
      "min_height": null,
      "min_width": null,
      "object_fit": null,
      "object_position": null,
      "order": null,
      "overflow": null,
      "overflow_x": null,
      "overflow_y": null,
      "padding": null,
      "right": null,
      "top": null,
      "visibility": null,
      "width": null
     }
    },
    "30f7d691c8b64c9ea43839c21b162ae9": {
     "model_module": "@jupyter-widgets/controls",
     "model_module_version": "1.5.0",
     "model_name": "DescriptionStyleModel",
     "state": {
      "_model_module": "@jupyter-widgets/controls",
      "_model_module_version": "1.5.0",
      "_model_name": "DescriptionStyleModel",
      "_view_count": null,
      "_view_module": "@jupyter-widgets/base",
      "_view_module_version": "1.2.0",
      "_view_name": "StyleView",
      "description_width": ""
     }
    },
    "3a5f7d95152040be9a100031f18f2b22": {
     "model_module": "@jupyter-widgets/controls",
     "model_module_version": "1.5.0",
     "model_name": "HTMLModel",
     "state": {
      "_dom_classes": [],
      "_model_module": "@jupyter-widgets/controls",
      "_model_module_version": "1.5.0",
      "_model_name": "HTMLModel",
      "_view_count": null,
      "_view_module": "@jupyter-widgets/controls",
      "_view_module_version": "1.5.0",
      "_view_name": "HTMLView",
      "description": "",
      "description_tooltip": null,
      "layout": "IPY_MODEL_d8e6ff2a7b774d3f83b2b82298b90468",
      "placeholder": "​",
      "style": "IPY_MODEL_0f5315d67d2748f88f568129997015e5",
      "value": " 1648877/1648877 [00:00&lt;00:00, 19939716.86it/s]"
     }
    },
    "3cdae87aa2204f78acccd46049fb9305": {
     "model_module": "@jupyter-widgets/controls",
     "model_module_version": "1.5.0",
     "model_name": "FloatProgressModel",
     "state": {
      "_dom_classes": [],
      "_model_module": "@jupyter-widgets/controls",
      "_model_module_version": "1.5.0",
      "_model_name": "FloatProgressModel",
      "_view_count": null,
      "_view_module": "@jupyter-widgets/controls",
      "_view_module_version": "1.5.0",
      "_view_name": "ProgressView",
      "bar_style": "success",
      "description": "",
      "description_tooltip": null,
      "layout": "IPY_MODEL_7053e8fc583a4b1c86a8631f41db7145",
      "max": 9912422,
      "min": 0,
      "orientation": "horizontal",
      "style": "IPY_MODEL_88c10a8d31554f37939cece31cb5e014",
      "value": 9912422
     }
    },
    "42814772997447c78ac45dff47184d5a": {
     "model_module": "@jupyter-widgets/base",
     "model_module_version": "1.2.0",
     "model_name": "LayoutModel",
     "state": {
      "_model_module": "@jupyter-widgets/base",
      "_model_module_version": "1.2.0",
      "_model_name": "LayoutModel",
      "_view_count": null,
      "_view_module": "@jupyter-widgets/base",
      "_view_module_version": "1.2.0",
      "_view_name": "LayoutView",
      "align_content": null,
      "align_items": null,
      "align_self": null,
      "border": null,
      "bottom": null,
      "display": null,
      "flex": null,
      "flex_flow": null,
      "grid_area": null,
      "grid_auto_columns": null,
      "grid_auto_flow": null,
      "grid_auto_rows": null,
      "grid_column": null,
      "grid_gap": null,
      "grid_row": null,
      "grid_template_areas": null,
      "grid_template_columns": null,
      "grid_template_rows": null,
      "height": null,
      "justify_content": null,
      "justify_items": null,
      "left": null,
      "margin": null,
      "max_height": null,
      "max_width": null,
      "min_height": null,
      "min_width": null,
      "object_fit": null,
      "object_position": null,
      "order": null,
      "overflow": null,
      "overflow_x": null,
      "overflow_y": null,
      "padding": null,
      "right": null,
      "top": null,
      "visibility": null,
      "width": null
     }
    },
    "4c3a5df6a63748d28497e9ba3cdb8457": {
     "model_module": "@jupyter-widgets/base",
     "model_module_version": "1.2.0",
     "model_name": "LayoutModel",
     "state": {
      "_model_module": "@jupyter-widgets/base",
      "_model_module_version": "1.2.0",
      "_model_name": "LayoutModel",
      "_view_count": null,
      "_view_module": "@jupyter-widgets/base",
      "_view_module_version": "1.2.0",
      "_view_name": "LayoutView",
      "align_content": null,
      "align_items": null,
      "align_self": null,
      "border": null,
      "bottom": null,
      "display": null,
      "flex": null,
      "flex_flow": null,
      "grid_area": null,
      "grid_auto_columns": null,
      "grid_auto_flow": null,
      "grid_auto_rows": null,
      "grid_column": null,
      "grid_gap": null,
      "grid_row": null,
      "grid_template_areas": null,
      "grid_template_columns": null,
      "grid_template_rows": null,
      "height": null,
      "justify_content": null,
      "justify_items": null,
      "left": null,
      "margin": null,
      "max_height": null,
      "max_width": null,
      "min_height": null,
      "min_width": null,
      "object_fit": null,
      "object_position": null,
      "order": null,
      "overflow": null,
      "overflow_x": null,
      "overflow_y": null,
      "padding": null,
      "right": null,
      "top": null,
      "visibility": null,
      "width": null
     }
    },
    "4dea87b645aa4b2287ff208285197765": {
     "model_module": "@jupyter-widgets/controls",
     "model_module_version": "1.5.0",
     "model_name": "HBoxModel",
     "state": {
      "_dom_classes": [],
      "_model_module": "@jupyter-widgets/controls",
      "_model_module_version": "1.5.0",
      "_model_name": "HBoxModel",
      "_view_count": null,
      "_view_module": "@jupyter-widgets/controls",
      "_view_module_version": "1.5.0",
      "_view_name": "HBoxView",
      "box_style": "",
      "children": [
       "IPY_MODEL_e1610c678ebf44929d1acb73706ca0c9",
       "IPY_MODEL_0f4b7bc46002417fa5dd981f55d223e4",
       "IPY_MODEL_a72df48abc984ebdb3ec45092a810eb6"
      ],
      "layout": "IPY_MODEL_c90795debffc4697ab9740d0ed526331"
     }
    },
    "59cde0a7e9dd4325aa0375901bffe2a6": {
     "model_module": "@jupyter-widgets/controls",
     "model_module_version": "1.5.0",
     "model_name": "DescriptionStyleModel",
     "state": {
      "_model_module": "@jupyter-widgets/controls",
      "_model_module_version": "1.5.0",
      "_model_name": "DescriptionStyleModel",
      "_view_count": null,
      "_view_module": "@jupyter-widgets/base",
      "_view_module_version": "1.2.0",
      "_view_name": "StyleView",
      "description_width": ""
     }
    },
    "5d290c2489a447c692dd6c68d0834aa8": {
     "model_module": "@jupyter-widgets/controls",
     "model_module_version": "1.5.0",
     "model_name": "HBoxModel",
     "state": {
      "_dom_classes": [],
      "_model_module": "@jupyter-widgets/controls",
      "_model_module_version": "1.5.0",
      "_model_name": "HBoxModel",
      "_view_count": null,
      "_view_module": "@jupyter-widgets/controls",
      "_view_module_version": "1.5.0",
      "_view_name": "HBoxView",
      "box_style": "",
      "children": [
       "IPY_MODEL_97b3927baf5a4f93ba513adcb26b27a8",
       "IPY_MODEL_3cdae87aa2204f78acccd46049fb9305",
       "IPY_MODEL_b287e188f78244d09c9f345b6ba88c55"
      ],
      "layout": "IPY_MODEL_0f3d5df40f2d4fdbaef51d4110d1915e"
     }
    },
    "65dc16e58e2f4930bce4c4aa2c4a446d": {
     "model_module": "@jupyter-widgets/controls",
     "model_module_version": "1.5.0",
     "model_name": "ProgressStyleModel",
     "state": {
      "_model_module": "@jupyter-widgets/controls",
      "_model_module_version": "1.5.0",
      "_model_name": "ProgressStyleModel",
      "_view_count": null,
      "_view_module": "@jupyter-widgets/base",
      "_view_module_version": "1.2.0",
      "_view_name": "StyleView",
      "bar_color": null,
      "description_width": ""
     }
    },
    "69837235b6724661bead957a454ed6c2": {
     "model_module": "@jupyter-widgets/base",
     "model_module_version": "1.2.0",
     "model_name": "LayoutModel",
     "state": {
      "_model_module": "@jupyter-widgets/base",
      "_model_module_version": "1.2.0",
      "_model_name": "LayoutModel",
      "_view_count": null,
      "_view_module": "@jupyter-widgets/base",
      "_view_module_version": "1.2.0",
      "_view_name": "LayoutView",
      "align_content": null,
      "align_items": null,
      "align_self": null,
      "border": null,
      "bottom": null,
      "display": null,
      "flex": null,
      "flex_flow": null,
      "grid_area": null,
      "grid_auto_columns": null,
      "grid_auto_flow": null,
      "grid_auto_rows": null,
      "grid_column": null,
      "grid_gap": null,
      "grid_row": null,
      "grid_template_areas": null,
      "grid_template_columns": null,
      "grid_template_rows": null,
      "height": null,
      "justify_content": null,
      "justify_items": null,
      "left": null,
      "margin": null,
      "max_height": null,
      "max_width": null,
      "min_height": null,
      "min_width": null,
      "object_fit": null,
      "object_position": null,
      "order": null,
      "overflow": null,
      "overflow_x": null,
      "overflow_y": null,
      "padding": null,
      "right": null,
      "top": null,
      "visibility": null,
      "width": null
     }
    },
    "7053e8fc583a4b1c86a8631f41db7145": {
     "model_module": "@jupyter-widgets/base",
     "model_module_version": "1.2.0",
     "model_name": "LayoutModel",
     "state": {
      "_model_module": "@jupyter-widgets/base",
      "_model_module_version": "1.2.0",
      "_model_name": "LayoutModel",
      "_view_count": null,
      "_view_module": "@jupyter-widgets/base",
      "_view_module_version": "1.2.0",
      "_view_name": "LayoutView",
      "align_content": null,
      "align_items": null,
      "align_self": null,
      "border": null,
      "bottom": null,
      "display": null,
      "flex": null,
      "flex_flow": null,
      "grid_area": null,
      "grid_auto_columns": null,
      "grid_auto_flow": null,
      "grid_auto_rows": null,
      "grid_column": null,
      "grid_gap": null,
      "grid_row": null,
      "grid_template_areas": null,
      "grid_template_columns": null,
      "grid_template_rows": null,
      "height": null,
      "justify_content": null,
      "justify_items": null,
      "left": null,
      "margin": null,
      "max_height": null,
      "max_width": null,
      "min_height": null,
      "min_width": null,
      "object_fit": null,
      "object_position": null,
      "order": null,
      "overflow": null,
      "overflow_x": null,
      "overflow_y": null,
      "padding": null,
      "right": null,
      "top": null,
      "visibility": null,
      "width": null
     }
    },
    "7068a4fd14e44ab29559ebe5f6862de2": {
     "model_module": "@jupyter-widgets/controls",
     "model_module_version": "1.5.0",
     "model_name": "ProgressStyleModel",
     "state": {
      "_model_module": "@jupyter-widgets/controls",
      "_model_module_version": "1.5.0",
      "_model_name": "ProgressStyleModel",
      "_view_count": null,
      "_view_module": "@jupyter-widgets/base",
      "_view_module_version": "1.2.0",
      "_view_name": "StyleView",
      "bar_color": null,
      "description_width": ""
     }
    },
    "88c10a8d31554f37939cece31cb5e014": {
     "model_module": "@jupyter-widgets/controls",
     "model_module_version": "1.5.0",
     "model_name": "ProgressStyleModel",
     "state": {
      "_model_module": "@jupyter-widgets/controls",
      "_model_module_version": "1.5.0",
      "_model_name": "ProgressStyleModel",
      "_view_count": null,
      "_view_module": "@jupyter-widgets/base",
      "_view_module_version": "1.2.0",
      "_view_name": "StyleView",
      "bar_color": null,
      "description_width": ""
     }
    },
    "8d0178296d6142b6981eab6a40296ea9": {
     "model_module": "@jupyter-widgets/controls",
     "model_module_version": "1.5.0",
     "model_name": "HTMLModel",
     "state": {
      "_dom_classes": [],
      "_model_module": "@jupyter-widgets/controls",
      "_model_module_version": "1.5.0",
      "_model_name": "HTMLModel",
      "_view_count": null,
      "_view_module": "@jupyter-widgets/controls",
      "_view_module_version": "1.5.0",
      "_view_name": "HTMLView",
      "description": "",
      "description_tooltip": null,
      "layout": "IPY_MODEL_69837235b6724661bead957a454ed6c2",
      "placeholder": "​",
      "style": "IPY_MODEL_30f7d691c8b64c9ea43839c21b162ae9",
      "value": "100%"
     }
    },
    "97b3927baf5a4f93ba513adcb26b27a8": {
     "model_module": "@jupyter-widgets/controls",
     "model_module_version": "1.5.0",
     "model_name": "HTMLModel",
     "state": {
      "_dom_classes": [],
      "_model_module": "@jupyter-widgets/controls",
      "_model_module_version": "1.5.0",
      "_model_name": "HTMLModel",
      "_view_count": null,
      "_view_module": "@jupyter-widgets/controls",
      "_view_module_version": "1.5.0",
      "_view_name": "HTMLView",
      "description": "",
      "description_tooltip": null,
      "layout": "IPY_MODEL_a352a07359c84768b5875f862a3873ea",
      "placeholder": "​",
      "style": "IPY_MODEL_59cde0a7e9dd4325aa0375901bffe2a6",
      "value": "100%"
     }
    },
    "9f972e398b634eebb234ff1779240e79": {
     "model_module": "@jupyter-widgets/base",
     "model_module_version": "1.2.0",
     "model_name": "LayoutModel",
     "state": {
      "_model_module": "@jupyter-widgets/base",
      "_model_module_version": "1.2.0",
      "_model_name": "LayoutModel",
      "_view_count": null,
      "_view_module": "@jupyter-widgets/base",
      "_view_module_version": "1.2.0",
      "_view_name": "LayoutView",
      "align_content": null,
      "align_items": null,
      "align_self": null,
      "border": null,
      "bottom": null,
      "display": null,
      "flex": null,
      "flex_flow": null,
      "grid_area": null,
      "grid_auto_columns": null,
      "grid_auto_flow": null,
      "grid_auto_rows": null,
      "grid_column": null,
      "grid_gap": null,
      "grid_row": null,
      "grid_template_areas": null,
      "grid_template_columns": null,
      "grid_template_rows": null,
      "height": null,
      "justify_content": null,
      "justify_items": null,
      "left": null,
      "margin": null,
      "max_height": null,
      "max_width": null,
      "min_height": null,
      "min_width": null,
      "object_fit": null,
      "object_position": null,
      "order": null,
      "overflow": null,
      "overflow_x": null,
      "overflow_y": null,
      "padding": null,
      "right": null,
      "top": null,
      "visibility": null,
      "width": null
     }
    },
    "a352a07359c84768b5875f862a3873ea": {
     "model_module": "@jupyter-widgets/base",
     "model_module_version": "1.2.0",
     "model_name": "LayoutModel",
     "state": {
      "_model_module": "@jupyter-widgets/base",
      "_model_module_version": "1.2.0",
      "_model_name": "LayoutModel",
      "_view_count": null,
      "_view_module": "@jupyter-widgets/base",
      "_view_module_version": "1.2.0",
      "_view_name": "LayoutView",
      "align_content": null,
      "align_items": null,
      "align_self": null,
      "border": null,
      "bottom": null,
      "display": null,
      "flex": null,
      "flex_flow": null,
      "grid_area": null,
      "grid_auto_columns": null,
      "grid_auto_flow": null,
      "grid_auto_rows": null,
      "grid_column": null,
      "grid_gap": null,
      "grid_row": null,
      "grid_template_areas": null,
      "grid_template_columns": null,
      "grid_template_rows": null,
      "height": null,
      "justify_content": null,
      "justify_items": null,
      "left": null,
      "margin": null,
      "max_height": null,
      "max_width": null,
      "min_height": null,
      "min_width": null,
      "object_fit": null,
      "object_position": null,
      "order": null,
      "overflow": null,
      "overflow_x": null,
      "overflow_y": null,
      "padding": null,
      "right": null,
      "top": null,
      "visibility": null,
      "width": null
     }
    },
    "a5cc9837ed974775bb5837c8bccb32dc": {
     "model_module": "@jupyter-widgets/controls",
     "model_module_version": "1.5.0",
     "model_name": "DescriptionStyleModel",
     "state": {
      "_model_module": "@jupyter-widgets/controls",
      "_model_module_version": "1.5.0",
      "_model_name": "DescriptionStyleModel",
      "_view_count": null,
      "_view_module": "@jupyter-widgets/base",
      "_view_module_version": "1.2.0",
      "_view_name": "StyleView",
      "description_width": ""
     }
    },
    "a72df48abc984ebdb3ec45092a810eb6": {
     "model_module": "@jupyter-widgets/controls",
     "model_module_version": "1.5.0",
     "model_name": "HTMLModel",
     "state": {
      "_dom_classes": [],
      "_model_module": "@jupyter-widgets/controls",
      "_model_module_version": "1.5.0",
      "_model_name": "HTMLModel",
      "_view_count": null,
      "_view_module": "@jupyter-widgets/controls",
      "_view_module_version": "1.5.0",
      "_view_name": "HTMLView",
      "description": "",
      "description_tooltip": null,
      "layout": "IPY_MODEL_281af6d2501a475385d10978e60ec63e",
      "placeholder": "​",
      "style": "IPY_MODEL_a5cc9837ed974775bb5837c8bccb32dc",
      "value": " 4542/4542 [00:00&lt;00:00, 129638.65it/s]"
     }
    },
    "b287e188f78244d09c9f345b6ba88c55": {
     "model_module": "@jupyter-widgets/controls",
     "model_module_version": "1.5.0",
     "model_name": "HTMLModel",
     "state": {
      "_dom_classes": [],
      "_model_module": "@jupyter-widgets/controls",
      "_model_module_version": "1.5.0",
      "_model_name": "HTMLModel",
      "_view_count": null,
      "_view_module": "@jupyter-widgets/controls",
      "_view_module_version": "1.5.0",
      "_view_name": "HTMLView",
      "description": "",
      "description_tooltip": null,
      "layout": "IPY_MODEL_4c3a5df6a63748d28497e9ba3cdb8457",
      "placeholder": "​",
      "style": "IPY_MODEL_ba0f37c28fd640d591dcb354e05d9f73",
      "value": " 9912422/9912422 [00:00&lt;00:00, 96297374.26it/s]"
     }
    },
    "b595da92d1314fe8bfb77c5c9ecbe459": {
     "model_module": "@jupyter-widgets/base",
     "model_module_version": "1.2.0",
     "model_name": "LayoutModel",
     "state": {
      "_model_module": "@jupyter-widgets/base",
      "_model_module_version": "1.2.0",
      "_model_name": "LayoutModel",
      "_view_count": null,
      "_view_module": "@jupyter-widgets/base",
      "_view_module_version": "1.2.0",
      "_view_name": "LayoutView",
      "align_content": null,
      "align_items": null,
      "align_self": null,
      "border": null,
      "bottom": null,
      "display": null,
      "flex": null,
      "flex_flow": null,
      "grid_area": null,
      "grid_auto_columns": null,
      "grid_auto_flow": null,
      "grid_auto_rows": null,
      "grid_column": null,
      "grid_gap": null,
      "grid_row": null,
      "grid_template_areas": null,
      "grid_template_columns": null,
      "grid_template_rows": null,
      "height": null,
      "justify_content": null,
      "justify_items": null,
      "left": null,
      "margin": null,
      "max_height": null,
      "max_width": null,
      "min_height": null,
      "min_width": null,
      "object_fit": null,
      "object_position": null,
      "order": null,
      "overflow": null,
      "overflow_x": null,
      "overflow_y": null,
      "padding": null,
      "right": null,
      "top": null,
      "visibility": null,
      "width": null
     }
    },
    "ba0f37c28fd640d591dcb354e05d9f73": {
     "model_module": "@jupyter-widgets/controls",
     "model_module_version": "1.5.0",
     "model_name": "DescriptionStyleModel",
     "state": {
      "_model_module": "@jupyter-widgets/controls",
      "_model_module_version": "1.5.0",
      "_model_name": "DescriptionStyleModel",
      "_view_count": null,
      "_view_module": "@jupyter-widgets/base",
      "_view_module_version": "1.2.0",
      "_view_name": "StyleView",
      "description_width": ""
     }
    },
    "c4eaf51932d443249679320dc88890a0": {
     "model_module": "@jupyter-widgets/controls",
     "model_module_version": "1.5.0",
     "model_name": "HTMLModel",
     "state": {
      "_dom_classes": [],
      "_model_module": "@jupyter-widgets/controls",
      "_model_module_version": "1.5.0",
      "_model_name": "HTMLModel",
      "_view_count": null,
      "_view_module": "@jupyter-widgets/controls",
      "_view_module_version": "1.5.0",
      "_view_name": "HTMLView",
      "description": "",
      "description_tooltip": null,
      "layout": "IPY_MODEL_f7ef592be11245ba91276750e9a562f3",
      "placeholder": "​",
      "style": "IPY_MODEL_cda99bbf074c47d48fba13c43f8c9789",
      "value": "100%"
     }
    },
    "c90795debffc4697ab9740d0ed526331": {
     "model_module": "@jupyter-widgets/base",
     "model_module_version": "1.2.0",
     "model_name": "LayoutModel",
     "state": {
      "_model_module": "@jupyter-widgets/base",
      "_model_module_version": "1.2.0",
      "_model_name": "LayoutModel",
      "_view_count": null,
      "_view_module": "@jupyter-widgets/base",
      "_view_module_version": "1.2.0",
      "_view_name": "LayoutView",
      "align_content": null,
      "align_items": null,
      "align_self": null,
      "border": null,
      "bottom": null,
      "display": null,
      "flex": null,
      "flex_flow": null,
      "grid_area": null,
      "grid_auto_columns": null,
      "grid_auto_flow": null,
      "grid_auto_rows": null,
      "grid_column": null,
      "grid_gap": null,
      "grid_row": null,
      "grid_template_areas": null,
      "grid_template_columns": null,
      "grid_template_rows": null,
      "height": null,
      "justify_content": null,
      "justify_items": null,
      "left": null,
      "margin": null,
      "max_height": null,
      "max_width": null,
      "min_height": null,
      "min_width": null,
      "object_fit": null,
      "object_position": null,
      "order": null,
      "overflow": null,
      "overflow_x": null,
      "overflow_y": null,
      "padding": null,
      "right": null,
      "top": null,
      "visibility": null,
      "width": null
     }
    },
    "cda99bbf074c47d48fba13c43f8c9789": {
     "model_module": "@jupyter-widgets/controls",
     "model_module_version": "1.5.0",
     "model_name": "DescriptionStyleModel",
     "state": {
      "_model_module": "@jupyter-widgets/controls",
      "_model_module_version": "1.5.0",
      "_model_name": "DescriptionStyleModel",
      "_view_count": null,
      "_view_module": "@jupyter-widgets/base",
      "_view_module_version": "1.2.0",
      "_view_name": "StyleView",
      "description_width": ""
     }
    },
    "d8e6ff2a7b774d3f83b2b82298b90468": {
     "model_module": "@jupyter-widgets/base",
     "model_module_version": "1.2.0",
     "model_name": "LayoutModel",
     "state": {
      "_model_module": "@jupyter-widgets/base",
      "_model_module_version": "1.2.0",
      "_model_name": "LayoutModel",
      "_view_count": null,
      "_view_module": "@jupyter-widgets/base",
      "_view_module_version": "1.2.0",
      "_view_name": "LayoutView",
      "align_content": null,
      "align_items": null,
      "align_self": null,
      "border": null,
      "bottom": null,
      "display": null,
      "flex": null,
      "flex_flow": null,
      "grid_area": null,
      "grid_auto_columns": null,
      "grid_auto_flow": null,
      "grid_auto_rows": null,
      "grid_column": null,
      "grid_gap": null,
      "grid_row": null,
      "grid_template_areas": null,
      "grid_template_columns": null,
      "grid_template_rows": null,
      "height": null,
      "justify_content": null,
      "justify_items": null,
      "left": null,
      "margin": null,
      "max_height": null,
      "max_width": null,
      "min_height": null,
      "min_width": null,
      "object_fit": null,
      "object_position": null,
      "order": null,
      "overflow": null,
      "overflow_x": null,
      "overflow_y": null,
      "padding": null,
      "right": null,
      "top": null,
      "visibility": null,
      "width": null
     }
    },
    "e16042907b634fa59270448e70a78e40": {
     "model_module": "@jupyter-widgets/base",
     "model_module_version": "1.2.0",
     "model_name": "LayoutModel",
     "state": {
      "_model_module": "@jupyter-widgets/base",
      "_model_module_version": "1.2.0",
      "_model_name": "LayoutModel",
      "_view_count": null,
      "_view_module": "@jupyter-widgets/base",
      "_view_module_version": "1.2.0",
      "_view_name": "LayoutView",
      "align_content": null,
      "align_items": null,
      "align_self": null,
      "border": null,
      "bottom": null,
      "display": null,
      "flex": null,
      "flex_flow": null,
      "grid_area": null,
      "grid_auto_columns": null,
      "grid_auto_flow": null,
      "grid_auto_rows": null,
      "grid_column": null,
      "grid_gap": null,
      "grid_row": null,
      "grid_template_areas": null,
      "grid_template_columns": null,
      "grid_template_rows": null,
      "height": null,
      "justify_content": null,
      "justify_items": null,
      "left": null,
      "margin": null,
      "max_height": null,
      "max_width": null,
      "min_height": null,
      "min_width": null,
      "object_fit": null,
      "object_position": null,
      "order": null,
      "overflow": null,
      "overflow_x": null,
      "overflow_y": null,
      "padding": null,
      "right": null,
      "top": null,
      "visibility": null,
      "width": null
     }
    },
    "e1610c678ebf44929d1acb73706ca0c9": {
     "model_module": "@jupyter-widgets/controls",
     "model_module_version": "1.5.0",
     "model_name": "HTMLModel",
     "state": {
      "_dom_classes": [],
      "_model_module": "@jupyter-widgets/controls",
      "_model_module_version": "1.5.0",
      "_model_name": "HTMLModel",
      "_view_count": null,
      "_view_module": "@jupyter-widgets/controls",
      "_view_module_version": "1.5.0",
      "_view_name": "HTMLView",
      "description": "",
      "description_tooltip": null,
      "layout": "IPY_MODEL_42814772997447c78ac45dff47184d5a",
      "placeholder": "​",
      "style": "IPY_MODEL_ec03060702a8415aa79c72de8a1a44b2",
      "value": "100%"
     }
    },
    "e297d05d87e946439d950ebe850f0251": {
     "model_module": "@jupyter-widgets/controls",
     "model_module_version": "1.5.0",
     "model_name": "ProgressStyleModel",
     "state": {
      "_model_module": "@jupyter-widgets/controls",
      "_model_module_version": "1.5.0",
      "_model_name": "ProgressStyleModel",
      "_view_count": null,
      "_view_module": "@jupyter-widgets/base",
      "_view_module_version": "1.2.0",
      "_view_name": "StyleView",
      "bar_color": null,
      "description_width": ""
     }
    },
    "e6514bc4c4364c6d959ae650fccb9caa": {
     "model_module": "@jupyter-widgets/controls",
     "model_module_version": "1.5.0",
     "model_name": "HTMLModel",
     "state": {
      "_dom_classes": [],
      "_model_module": "@jupyter-widgets/controls",
      "_model_module_version": "1.5.0",
      "_model_name": "HTMLModel",
      "_view_count": null,
      "_view_module": "@jupyter-widgets/controls",
      "_view_module_version": "1.5.0",
      "_view_name": "HTMLView",
      "description": "",
      "description_tooltip": null,
      "layout": "IPY_MODEL_e16042907b634fa59270448e70a78e40",
      "placeholder": "​",
      "style": "IPY_MODEL_f336934b799c4caaa5ce9811402153a2",
      "value": " 28881/28881 [00:00&lt;00:00, 761251.67it/s]"
     }
    },
    "e73da9b6591647368b30606e4690fc48": {
     "model_module": "@jupyter-widgets/controls",
     "model_module_version": "1.5.0",
     "model_name": "FloatProgressModel",
     "state": {
      "_dom_classes": [],
      "_model_module": "@jupyter-widgets/controls",
      "_model_module_version": "1.5.0",
      "_model_name": "FloatProgressModel",
      "_view_count": null,
      "_view_module": "@jupyter-widgets/controls",
      "_view_module_version": "1.5.0",
      "_view_name": "ProgressView",
      "bar_style": "success",
      "description": "",
      "description_tooltip": null,
      "layout": "IPY_MODEL_171ae9996ce749e7960b6f79c180734d",
      "max": 28881,
      "min": 0,
      "orientation": "horizontal",
      "style": "IPY_MODEL_7068a4fd14e44ab29559ebe5f6862de2",
      "value": 28881
     }
    },
    "e98e24c184ee4985a222e1e373f02674": {
     "model_module": "@jupyter-widgets/controls",
     "model_module_version": "1.5.0",
     "model_name": "HBoxModel",
     "state": {
      "_dom_classes": [],
      "_model_module": "@jupyter-widgets/controls",
      "_model_module_version": "1.5.0",
      "_model_name": "HBoxModel",
      "_view_count": null,
      "_view_module": "@jupyter-widgets/controls",
      "_view_module_version": "1.5.0",
      "_view_name": "HBoxView",
      "box_style": "",
      "children": [
       "IPY_MODEL_8d0178296d6142b6981eab6a40296ea9",
       "IPY_MODEL_023eae109c1244368601e977b71b9000",
       "IPY_MODEL_3a5f7d95152040be9a100031f18f2b22"
      ],
      "layout": "IPY_MODEL_17876826b47d4df7b20e77f8802642b9"
     }
    },
    "ec03060702a8415aa79c72de8a1a44b2": {
     "model_module": "@jupyter-widgets/controls",
     "model_module_version": "1.5.0",
     "model_name": "DescriptionStyleModel",
     "state": {
      "_model_module": "@jupyter-widgets/controls",
      "_model_module_version": "1.5.0",
      "_model_name": "DescriptionStyleModel",
      "_view_count": null,
      "_view_module": "@jupyter-widgets/base",
      "_view_module_version": "1.2.0",
      "_view_name": "StyleView",
      "description_width": ""
     }
    },
    "f336934b799c4caaa5ce9811402153a2": {
     "model_module": "@jupyter-widgets/controls",
     "model_module_version": "1.5.0",
     "model_name": "DescriptionStyleModel",
     "state": {
      "_model_module": "@jupyter-widgets/controls",
      "_model_module_version": "1.5.0",
      "_model_name": "DescriptionStyleModel",
      "_view_count": null,
      "_view_module": "@jupyter-widgets/base",
      "_view_module_version": "1.2.0",
      "_view_name": "StyleView",
      "description_width": ""
     }
    },
    "f6dd2a998d9148d19c6729dfd562febd": {
     "model_module": "@jupyter-widgets/controls",
     "model_module_version": "1.5.0",
     "model_name": "HBoxModel",
     "state": {
      "_dom_classes": [],
      "_model_module": "@jupyter-widgets/controls",
      "_model_module_version": "1.5.0",
      "_model_name": "HBoxModel",
      "_view_count": null,
      "_view_module": "@jupyter-widgets/controls",
      "_view_module_version": "1.5.0",
      "_view_name": "HBoxView",
      "box_style": "",
      "children": [
       "IPY_MODEL_c4eaf51932d443249679320dc88890a0",
       "IPY_MODEL_e73da9b6591647368b30606e4690fc48",
       "IPY_MODEL_e6514bc4c4364c6d959ae650fccb9caa"
      ],
      "layout": "IPY_MODEL_b595da92d1314fe8bfb77c5c9ecbe459"
     }
    },
    "f7ef592be11245ba91276750e9a562f3": {
     "model_module": "@jupyter-widgets/base",
     "model_module_version": "1.2.0",
     "model_name": "LayoutModel",
     "state": {
      "_model_module": "@jupyter-widgets/base",
      "_model_module_version": "1.2.0",
      "_model_name": "LayoutModel",
      "_view_count": null,
      "_view_module": "@jupyter-widgets/base",
      "_view_module_version": "1.2.0",
      "_view_name": "LayoutView",
      "align_content": null,
      "align_items": null,
      "align_self": null,
      "border": null,
      "bottom": null,
      "display": null,
      "flex": null,
      "flex_flow": null,
      "grid_area": null,
      "grid_auto_columns": null,
      "grid_auto_flow": null,
      "grid_auto_rows": null,
      "grid_column": null,
      "grid_gap": null,
      "grid_row": null,
      "grid_template_areas": null,
      "grid_template_columns": null,
      "grid_template_rows": null,
      "height": null,
      "justify_content": null,
      "justify_items": null,
      "left": null,
      "margin": null,
      "max_height": null,
      "max_width": null,
      "min_height": null,
      "min_width": null,
      "object_fit": null,
      "object_position": null,
      "order": null,
      "overflow": null,
      "overflow_x": null,
      "overflow_y": null,
      "padding": null,
      "right": null,
      "top": null,
      "visibility": null,
      "width": null
     }
    }
   }
  }
 },
 "nbformat": 4,
 "nbformat_minor": 1
}
